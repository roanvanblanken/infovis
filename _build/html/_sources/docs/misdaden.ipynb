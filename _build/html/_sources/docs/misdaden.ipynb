{
 "cells": [
  {
   "cell_type": "code",
   "execution_count": 46,
   "metadata": {},
   "outputs": [
    {
     "data": {
      "application/vnd.plotly.v1+json": {
       "config": {
        "plotlyServerURL": "https://plot.ly"
       },
       "data": [
        {
         "hoverinfo": "text",
         "hovertext": [
          "Groningen<br>Verdachten per 10.000 inwoners: 81",
          "Friesland<br>Verdachten per 10.000 inwoners: 79",
          "Drenthe<br>Verdachten per 10.000 inwoners: 67",
          "Overijssel<br>Verdachten per 10.000 inwoners: 67",
          "Flevoland<br>Verdachten per 10.000 inwoners: 105",
          "Gelderland<br>Verdachten per 10.000 inwoners: 70",
          "Utrecht<br>Verdachten per 10.000 inwoners: 73",
          "Noord-Holland<br>Verdachten per 10.000 inwoners: 95",
          "Zuid-Holland<br>Verdachten per 10.000 inwoners: 103",
          "Zeeland<br>Verdachten per 10.000 inwoners: 82",
          "Noord-Brabant<br>Verdachten per 10.000 inwoners: 76",
          "Limburg<br>Verdachten per 10.000 inwoners: 79"
         ],
         "marker": {
          "color": [
           "#359d73",
           "#27958f",
           "#8c5792",
           "#1887ab",
           "#a9629f",
           "#4f73a1",
           "#e46828",
           "#ac1917",
           "#93ae55",
           "#f0be39",
           "#c867a5",
           "#d34467"
          ]
         },
         "name": "Alle provincies",
         "type": "bar",
         "x": [
          "Groningen",
          "Friesland",
          "Drenthe",
          "Overijssel",
          "Flevoland",
          "Gelderland",
          "Utrecht",
          "Noord-Holland",
          "Zuid-Holland",
          "Zeeland",
          "Noord-Brabant",
          "Limburg"
         ],
         "y": [
          81,
          79,
          67,
          67,
          105,
          70,
          73,
          95,
          103,
          82,
          76,
          79
         ]
        },
        {
         "hoverinfo": "text",
         "hovertext": [
          "Eemsdelta<br>Verdachten per 10.000 inwoners: 102",
          "Groningen<br>Verdachten per 10.000 inwoners: 86",
          "Het Hogeland<br>Verdachten per 10.000 inwoners: 67",
          "Midden-Groningen<br>Verdachten per 10.000 inwoners: 83",
          "Oldambt<br>Verdachten per 10.000 inwoners: 91",
          "Pekela<br>Verdachten per 10.000 inwoners: 94",
          "Stadskanaal<br>Verdachten per 10.000 inwoners: 82",
          "Veendam<br>Verdachten per 10.000 inwoners: 73",
          "Westerkwartier<br>Verdachten per 10.000 inwoners: 58",
          "Westerwolde<br>Verdachten per 10.000 inwoners: 61"
         ],
         "marker": {
          "color": "#359d73"
         },
         "name": "Groningen",
         "type": "bar",
         "visible": false,
         "x": [
          "Eemsdelta",
          "Groningen",
          "Het Hogeland",
          "Midden-Groningen",
          "Oldambt",
          "Pekela",
          "Stadskanaal",
          "Veendam",
          "Westerkwartier",
          "Westerwolde"
         ],
         "y": [
          102,
          86,
          67,
          83,
          91,
          94,
          82,
          73,
          58,
          61
         ]
        },
        {
         "hoverinfo": "text",
         "hovertext": [
          "Achtkarspelen<br>Verdachten per 10.000 inwoners: 91",
          "Ameland<br>Verdachten per 10.000 inwoners: 20",
          "Dantumadiel<br>Verdachten per 10.000 inwoners: 61",
          "De Fryske Marren<br>Verdachten per 10.000 inwoners: 54",
          "Harlingen<br>Verdachten per 10.000 inwoners: 83",
          "Heerenveen<br>Verdachten per 10.000 inwoners: 73",
          "Leeuwarden<br>Verdachten per 10.000 inwoners: 113",
          "Noardeast-Fryslân<br>Verdachten per 10.000 inwoners: 73",
          "Ooststellingwerf<br>Verdachten per 10.000 inwoners: 72",
          "Opsterland<br>Verdachten per 10.000 inwoners: 58",
          "Smallingerland<br>Verdachten per 10.000 inwoners: 84",
          "Súdwest-Fryslân<br>Verdachten per 10.000 inwoners: 81",
          "Terschelling<br>Verdachten per 10.000 inwoners: 55",
          "Tytsjerksteradiel<br>Verdachten per 10.000 inwoners: 58",
          "Vlieland<br>Verdachten per 10.000 inwoners: 83",
          "Waadhoeke<br>Verdachten per 10.000 inwoners: 70",
          "Weststellingwerf<br>Verdachten per 10.000 inwoners: 58"
         ],
         "marker": {
          "color": "#27958f"
         },
         "name": "Friesland",
         "type": "bar",
         "visible": false,
         "x": [
          "Achtkarspelen",
          "Ameland",
          "Dantumadiel",
          "De Fryske Marren",
          "Harlingen",
          "Heerenveen",
          "Leeuwarden",
          "Noardeast-Fryslân",
          "Ooststellingwerf",
          "Opsterland",
          "Smallingerland",
          "Súdwest-Fryslân",
          "Terschelling",
          "Tytsjerksteradiel",
          "Vlieland",
          "Waadhoeke",
          "Weststellingwerf"
         ],
         "y": [
          91,
          20,
          61,
          54,
          83,
          73,
          113,
          73,
          72,
          58,
          84,
          81,
          55,
          58,
          83,
          70,
          58
         ]
        },
        {
         "hoverinfo": "text",
         "hovertext": [
          "Aa en Hunze<br>Verdachten per 10.000 inwoners: 45",
          "Assen<br>Verdachten per 10.000 inwoners: 87",
          "Borger-Odoorn<br>Verdachten per 10.000 inwoners: 56",
          "Coevorden<br>Verdachten per 10.000 inwoners: 53",
          "Emmen<br>Verdachten per 10.000 inwoners: 83",
          "Hoogeveen<br>Verdachten per 10.000 inwoners: 75",
          "Meppel<br>Verdachten per 10.000 inwoners: 61",
          "Midden-Drenthe<br>Verdachten per 10.000 inwoners: 54",
          "Noordenveld<br>Verdachten per 10.000 inwoners: 56",
          "Tynaarlo<br>Verdachten per 10.000 inwoners: 56",
          "Westerveld<br>Verdachten per 10.000 inwoners: 49",
          "De Wolden<br>Verdachten per 10.000 inwoners: 37"
         ],
         "marker": {
          "color": "#8c5792"
         },
         "name": "Drenthe",
         "type": "bar",
         "visible": false,
         "x": [
          "Aa en Hunze",
          "Assen",
          "Borger-Odoorn",
          "Coevorden",
          "Emmen",
          "Hoogeveen",
          "Meppel",
          "Midden-Drenthe",
          "Noordenveld",
          "Tynaarlo",
          "Westerveld",
          "De Wolden"
         ],
         "y": [
          45,
          87,
          56,
          53,
          83,
          75,
          61,
          54,
          56,
          56,
          49,
          37
         ]
        },
        {
         "hoverinfo": "text",
         "hovertext": [
          "Almelo<br>Verdachten per 10.000 inwoners: 116",
          "Borne<br>Verdachten per 10.000 inwoners: 35",
          "Dalfsen<br>Verdachten per 10.000 inwoners: 36",
          "Deventer<br>Verdachten per 10.000 inwoners: 82",
          "Dinkelland<br>Verdachten per 10.000 inwoners: 32",
          "Enschede<br>Verdachten per 10.000 inwoners: 94",
          "Haaksbergen<br>Verdachten per 10.000 inwoners: 34",
          "Hardenberg<br>Verdachten per 10.000 inwoners: 48",
          "Hellendoorn<br>Verdachten per 10.000 inwoners: 26",
          "Hengelo<br>Verdachten per 10.000 inwoners: 75",
          "Hof van Twente<br>Verdachten per 10.000 inwoners: 41",
          "Kampen<br>Verdachten per 10.000 inwoners: 66",
          "Losser<br>Verdachten per 10.000 inwoners: 44",
          "Oldenzaal<br>Verdachten per 10.000 inwoners: 50",
          "Olst-Wijhe<br>Verdachten per 10.000 inwoners: 53",
          "Ommen<br>Verdachten per 10.000 inwoners: 38",
          "Raalte<br>Verdachten per 10.000 inwoners: 34",
          "Rijssen-Holten<br>Verdachten per 10.000 inwoners: 39",
          "Staphorst<br>Verdachten per 10.000 inwoners: 57",
          "Steenwijkerland<br>Verdachten per 10.000 inwoners: 60",
          "Tubbergen<br>Verdachten per 10.000 inwoners: 40",
          "Twenterand<br>Verdachten per 10.000 inwoners: 65",
          "Wierden<br>Verdachten per 10.000 inwoners: 35",
          "Zwartewaterland<br>Verdachten per 10.000 inwoners: 51",
          "Zwolle<br>Verdachten per 10.000 inwoners: 93"
         ],
         "marker": {
          "color": "#1887ab"
         },
         "name": "Overijssel",
         "type": "bar",
         "visible": false,
         "x": [
          "Almelo",
          "Borne",
          "Dalfsen",
          "Deventer",
          "Dinkelland",
          "Enschede",
          "Haaksbergen",
          "Hardenberg",
          "Hellendoorn",
          "Hengelo",
          "Hof van Twente",
          "Kampen",
          "Losser",
          "Oldenzaal",
          "Olst-Wijhe",
          "Ommen",
          "Raalte",
          "Rijssen-Holten",
          "Staphorst",
          "Steenwijkerland",
          "Tubbergen",
          "Twenterand",
          "Wierden",
          "Zwartewaterland",
          "Zwolle"
         ],
         "y": [
          116,
          35,
          36,
          82,
          32,
          94,
          34,
          48,
          26,
          75,
          41,
          66,
          44,
          50,
          53,
          38,
          34,
          39,
          57,
          60,
          40,
          65,
          35,
          51,
          93
         ]
        },
        {
         "hoverinfo": "text",
         "hovertext": [
          "Almere<br>Verdachten per 10.000 inwoners: 111",
          "Dronten<br>Verdachten per 10.000 inwoners: 58",
          "Lelystad<br>Verdachten per 10.000 inwoners: 103",
          "Noordoostpolder<br>Verdachten per 10.000 inwoners: 58",
          "Urk<br>Verdachten per 10.000 inwoners: 83",
          "Zeewolde<br>Verdachten per 10.000 inwoners: 67"
         ],
         "marker": {
          "color": "#a9629f"
         },
         "name": "Flevoland",
         "type": "bar",
         "visible": false,
         "x": [
          "Almere",
          "Dronten",
          "Lelystad",
          "Noordoostpolder",
          "Urk",
          "Zeewolde"
         ],
         "y": [
          111,
          58,
          103,
          58,
          83,
          67
         ]
        },
        {
         "hoverinfo": "text",
         "hovertext": [
          "Aalten<br>Verdachten per 10.000 inwoners: 36",
          "Apeldoorn<br>Verdachten per 10.000 inwoners: 86",
          "Arnhem<br>Verdachten per 10.000 inwoners: 121",
          "Barneveld<br>Verdachten per 10.000 inwoners: 67",
          "Berg en Dal<br>Verdachten per 10.000 inwoners: 63",
          "Berkelland<br>Verdachten per 10.000 inwoners: 50",
          "Beuningen<br>Verdachten per 10.000 inwoners: 51",
          "Bronckhorst<br>Verdachten per 10.000 inwoners: 37",
          "Brummen<br>Verdachten per 10.000 inwoners: 57",
          "Buren<br>Verdachten per 10.000 inwoners: 50",
          "Culemborg<br>Verdachten per 10.000 inwoners: 56",
          "Doesburg<br>Verdachten per 10.000 inwoners: 69",
          "Doetinchem<br>Verdachten per 10.000 inwoners: 86",
          "Druten<br>Verdachten per 10.000 inwoners: 52",
          "Duiven<br>Verdachten per 10.000 inwoners: 52",
          "Ede<br>Verdachten per 10.000 inwoners: 74",
          "Elburg<br>Verdachten per 10.000 inwoners: 60",
          "Epe<br>Verdachten per 10.000 inwoners: 67",
          "Ermelo<br>Verdachten per 10.000 inwoners: 70",
          "Harderwijk<br>Verdachten per 10.000 inwoners: 75",
          "Hattem<br>Verdachten per 10.000 inwoners: 50",
          "Heerde<br>Verdachten per 10.000 inwoners: 50",
          "Heumen<br>Verdachten per 10.000 inwoners: 64",
          "Lingewaard<br>Verdachten per 10.000 inwoners: 47",
          "Lochem<br>Verdachten per 10.000 inwoners: 57",
          "Maasdriel<br>Verdachten per 10.000 inwoners: 68",
          "Montferland<br>Verdachten per 10.000 inwoners: 50",
          "Neder-Betuwe<br>Verdachten per 10.000 inwoners: 63",
          "Nijkerk<br>Verdachten per 10.000 inwoners: 63",
          "Nijmegen<br>Verdachten per 10.000 inwoners: 83",
          "Nunspeet<br>Verdachten per 10.000 inwoners: 69",
          "Oldebroek<br>Verdachten per 10.000 inwoners: 61",
          "Oost Gelre<br>Verdachten per 10.000 inwoners: 54",
          "Oude IJsselstreek<br>Verdachten per 10.000 inwoners: 45",
          "Overbetuwe<br>Verdachten per 10.000 inwoners: 50",
          "Putten<br>Verdachten per 10.000 inwoners: 56",
          "Renkum<br>Verdachten per 10.000 inwoners: 61",
          "Rheden<br>Verdachten per 10.000 inwoners: 70",
          "Rozendaal<br>Verdachten per 10.000 inwoners: 39",
          "Scherpenzeel<br>Verdachten per 10.000 inwoners: 55",
          "Tiel<br>Verdachten per 10.000 inwoners: 94",
          "Voorst<br>Verdachten per 10.000 inwoners: 57",
          "Wageningen<br>Verdachten per 10.000 inwoners: 50",
          "West Betuwe<br>Verdachten per 10.000 inwoners: 55",
          "West Maas en Waal<br>Verdachten per 10.000 inwoners: 36",
          "Westervoort<br>Verdachten per 10.000 inwoners: 62",
          "Wijchen<br>Verdachten per 10.000 inwoners: 58",
          "Winterswijk<br>Verdachten per 10.000 inwoners: 62",
          "Zaltbommel<br>Verdachten per 10.000 inwoners: 65",
          "Zevenaar<br>Verdachten per 10.000 inwoners: 57",
          "Zutphen<br>Verdachten per 10.000 inwoners: 118"
         ],
         "marker": {
          "color": "#4f73a1"
         },
         "name": "Gelderland",
         "type": "bar",
         "visible": false,
         "x": [
          "Aalten",
          "Apeldoorn",
          "Arnhem",
          "Barneveld",
          "Berg en Dal",
          "Berkelland",
          "Beuningen",
          "Bronckhorst",
          "Brummen",
          "Buren",
          "Culemborg",
          "Doesburg",
          "Doetinchem",
          "Druten",
          "Duiven",
          "Ede",
          "Elburg",
          "Epe",
          "Ermelo",
          "Harderwijk",
          "Hattem",
          "Heerde",
          "Heumen",
          "Lingewaard",
          "Lochem",
          "Maasdriel",
          "Montferland",
          "Neder-Betuwe",
          "Nijkerk",
          "Nijmegen",
          "Nunspeet",
          "Oldebroek",
          "Oost Gelre",
          "Oude IJsselstreek",
          "Overbetuwe",
          "Putten",
          "Renkum",
          "Rheden",
          "Rozendaal",
          "Scherpenzeel",
          "Tiel",
          "Voorst",
          "Wageningen",
          "West Betuwe",
          "West Maas en Waal",
          "Westervoort",
          "Wijchen",
          "Winterswijk",
          "Zaltbommel",
          "Zevenaar",
          "Zutphen"
         ],
         "y": [
          36,
          86,
          121,
          67,
          63,
          50,
          51,
          37,
          57,
          50,
          56,
          69,
          86,
          52,
          52,
          74,
          60,
          67,
          70,
          75,
          50,
          50,
          64,
          47,
          57,
          68,
          50,
          63,
          63,
          83,
          69,
          61,
          54,
          45,
          50,
          56,
          61,
          70,
          39,
          55,
          94,
          57,
          50,
          55,
          36,
          62,
          58,
          62,
          65,
          57,
          118
         ]
        },
        {
         "hoverinfo": "text",
         "hovertext": [
          "Amersfoort<br>Verdachten per 10.000 inwoners: 83",
          "Baarn<br>Verdachten per 10.000 inwoners: 68",
          "De Bilt<br>Verdachten per 10.000 inwoners: 53",
          "Bunnik<br>Verdachten per 10.000 inwoners: 37",
          "Bunschoten<br>Verdachten per 10.000 inwoners: 73",
          "Eemnes<br>Verdachten per 10.000 inwoners: 54",
          "Houten<br>Verdachten per 10.000 inwoners: 44",
          "IJsselstein<br>Verdachten per 10.000 inwoners: 81",
          "Leusden<br>Verdachten per 10.000 inwoners: 47",
          "Lopik<br>Verdachten per 10.000 inwoners: 64",
          "Montfoort<br>Verdachten per 10.000 inwoners: 58",
          "Nieuwegein<br>Verdachten per 10.000 inwoners: 86",
          "Oudewater<br>Verdachten per 10.000 inwoners: 45",
          "Renswoude<br>Verdachten per 10.000 inwoners: 79",
          "Rhenen<br>Verdachten per 10.000 inwoners: 58",
          "De Ronde Venen<br>Verdachten per 10.000 inwoners: 66",
          "Soest<br>Verdachten per 10.000 inwoners: 64",
          "Stichtse Vecht<br>Verdachten per 10.000 inwoners: 67",
          "Utrecht<br>Verdachten per 10.000 inwoners: 90",
          "Utrechtse Heuvelrug<br>Verdachten per 10.000 inwoners: 61",
          "Veenendaal<br>Verdachten per 10.000 inwoners: 62",
          "Vijfheerenlanden<br>Verdachten per 10.000 inwoners: 71",
          "Wijk bij Duurstede<br>Verdachten per 10.000 inwoners: 34",
          "Woerden<br>Verdachten per 10.000 inwoners: 53",
          "Woudenberg<br>Verdachten per 10.000 inwoners: 47",
          "Zeist<br>Verdachten per 10.000 inwoners: 89"
         ],
         "marker": {
          "color": "#e46828"
         },
         "name": "Utrecht",
         "type": "bar",
         "visible": false,
         "x": [
          "Amersfoort",
          "Baarn",
          "De Bilt",
          "Bunnik",
          "Bunschoten",
          "Eemnes",
          "Houten",
          "IJsselstein",
          "Leusden",
          "Lopik",
          "Montfoort",
          "Nieuwegein",
          "Oudewater",
          "Renswoude",
          "Rhenen",
          "De Ronde Venen",
          "Soest",
          "Stichtse Vecht",
          "Utrecht",
          "Utrechtse Heuvelrug",
          "Veenendaal",
          "Vijfheerenlanden",
          "Wijk bij Duurstede",
          "Woerden",
          "Woudenberg",
          "Zeist"
         ],
         "y": [
          83,
          68,
          53,
          37,
          73,
          54,
          44,
          81,
          47,
          64,
          58,
          86,
          45,
          79,
          58,
          66,
          64,
          67,
          90,
          61,
          62,
          71,
          34,
          53,
          47,
          89
         ]
        },
        {
         "hoverinfo": "text",
         "hovertext": [
          "Aalsmeer<br>Verdachten per 10.000 inwoners: 72",
          "Alkmaar<br>Verdachten per 10.000 inwoners: 99",
          "Amstelveen<br>Verdachten per 10.000 inwoners: 72",
          "Amsterdam<br>Verdachten per 10.000 inwoners: 121",
          "Bergen<br>Verdachten per 10.000 inwoners: 52",
          "Beverwijk<br>Verdachten per 10.000 inwoners: 97",
          "Blaricum<br>Verdachten per 10.000 inwoners: 59",
          "Bloemendaal<br>Verdachten per 10.000 inwoners: 67",
          "Castricum<br>Verdachten per 10.000 inwoners: 63",
          "Diemen<br>Verdachten per 10.000 inwoners: 99",
          "Dijk en Waard<br>Verdachten per 10.000 inwoners: 76",
          "Drechterland<br>Verdachten per 10.000 inwoners: 57",
          "Edam-Volendam<br>Verdachten per 10.000 inwoners: 55",
          "Enkhuizen<br>Verdachten per 10.000 inwoners: 77",
          "Gooise Meren<br>Verdachten per 10.000 inwoners: 68",
          "Haarlem<br>Verdachten per 10.000 inwoners: 103",
          "Haarlemmermeer<br>Verdachten per 10.000 inwoners: 81",
          "Heemskerk<br>Verdachten per 10.000 inwoners: 71",
          "Heemstede<br>Verdachten per 10.000 inwoners: 71",
          "Heiloo<br>Verdachten per 10.000 inwoners: 61",
          "Den Helder<br>Verdachten per 10.000 inwoners: 129",
          "Hilversum<br>Verdachten per 10.000 inwoners: 81",
          "Hollands Kroon<br>Verdachten per 10.000 inwoners: 54",
          "Hoorn<br>Verdachten per 10.000 inwoners: 88",
          "Huizen<br>Verdachten per 10.000 inwoners: 63",
          "Koggenland<br>Verdachten per 10.000 inwoners: 52",
          "Landsmeer<br>Verdachten per 10.000 inwoners: 84",
          "Laren<br>Verdachten per 10.000 inwoners: 52",
          "Medemblik<br>Verdachten per 10.000 inwoners: 67",
          "Oostzaan<br>Verdachten per 10.000 inwoners: 73",
          "Opmeer<br>Verdachten per 10.000 inwoners: 40",
          "Ouder-Amstel<br>Verdachten per 10.000 inwoners: 69",
          "Purmerend<br>Verdachten per 10.000 inwoners: 97",
          "Schagen<br>Verdachten per 10.000 inwoners: 62",
          "Stede Broec<br>Verdachten per 10.000 inwoners: 56",
          "Texel<br>Verdachten per 10.000 inwoners: 60",
          "Uitgeest<br>Verdachten per 10.000 inwoners: 61",
          "Uithoorn<br>Verdachten per 10.000 inwoners: 85",
          "Velsen<br>Verdachten per 10.000 inwoners: 97",
          "Waterland<br>Verdachten per 10.000 inwoners: 63",
          "Weesp<br>Verdachten per 10.000 inwoners: 69",
          "Wijdemeren<br>Verdachten per 10.000 inwoners: 53",
          "Wormerland<br>Verdachten per 10.000 inwoners: 63",
          "Zaanstad<br>Verdachten per 10.000 inwoners: 123",
          "Zandvoort<br>Verdachten per 10.000 inwoners: 121"
         ],
         "marker": {
          "color": "#ac1917"
         },
         "name": "Noord-Holland",
         "type": "bar",
         "visible": false,
         "x": [
          "Aalsmeer",
          "Alkmaar",
          "Amstelveen",
          "Amsterdam",
          "Bergen",
          "Beverwijk",
          "Blaricum",
          "Bloemendaal",
          "Castricum",
          "Diemen",
          "Dijk en Waard",
          "Drechterland",
          "Edam-Volendam",
          "Enkhuizen",
          "Gooise Meren",
          "Haarlem",
          "Haarlemmermeer",
          "Heemskerk",
          "Heemstede",
          "Heiloo",
          "Den Helder",
          "Hilversum",
          "Hollands Kroon",
          "Hoorn",
          "Huizen",
          "Koggenland",
          "Landsmeer",
          "Laren",
          "Medemblik",
          "Oostzaan",
          "Opmeer",
          "Ouder-Amstel",
          "Purmerend",
          "Schagen",
          "Stede Broec",
          "Texel",
          "Uitgeest",
          "Uithoorn",
          "Velsen",
          "Waterland",
          "Weesp",
          "Wijdemeren",
          "Wormerland",
          "Zaanstad",
          "Zandvoort"
         ],
         "y": [
          72,
          99,
          72,
          121,
          52,
          97,
          59,
          67,
          63,
          99,
          76,
          57,
          55,
          77,
          68,
          103,
          81,
          71,
          71,
          61,
          129,
          81,
          54,
          88,
          63,
          52,
          84,
          52,
          67,
          73,
          40,
          69,
          97,
          62,
          56,
          60,
          61,
          85,
          97,
          63,
          69,
          53,
          63,
          123,
          121
         ]
        },
        {
         "hoverinfo": "text",
         "hovertext": [
          "Alblasserdam<br>Verdachten per 10.000 inwoners: 61",
          "Albrandswaard<br>Verdachten per 10.000 inwoners: 86",
          "Alphen aan den Rijn<br>Verdachten per 10.000 inwoners: 88",
          "Barendrecht<br>Verdachten per 10.000 inwoners: 67",
          "Bodegraven-Reeuwijk<br>Verdachten per 10.000 inwoners: 55",
          "Brielle<br>Verdachten per 10.000 inwoners: 68",
          "Capelle aan den IJssel<br>Verdachten per 10.000 inwoners: 99",
          "Delft<br>Verdachten per 10.000 inwoners: 84",
          "Dordrecht<br>Verdachten per 10.000 inwoners: 111",
          "Goeree-Overflakkee<br>Verdachten per 10.000 inwoners: 58",
          "Gorinchem<br>Verdachten per 10.000 inwoners: 77",
          "Gouda<br>Verdachten per 10.000 inwoners: 98",
          "s-Gravenhage<br>Verdachten per 10.000 inwoners: 148",
          "Hardinxveld-Giessendam<br>Verdachten per 10.000 inwoners: 53",
          "Hellevoetsluis<br>Verdachten per 10.000 inwoners: 83",
          "Hendrik-Ido-Ambacht<br>Verdachten per 10.000 inwoners: 52",
          "Hillegom<br>Verdachten per 10.000 inwoners: 71",
          "Hoeksche Waard<br>Verdachten per 10.000 inwoners: 58",
          "Kaag en Braassem<br>Verdachten per 10.000 inwoners: 67",
          "Katwijk<br>Verdachten per 10.000 inwoners: 64",
          "Krimpen aan den IJssel<br>Verdachten per 10.000 inwoners: 65",
          "Krimpenerwaard<br>Verdachten per 10.000 inwoners: 63",
          "Lansingerland<br>Verdachten per 10.000 inwoners: 64",
          "Leiden<br>Verdachten per 10.000 inwoners: 82",
          "Leiderdorp<br>Verdachten per 10.000 inwoners: 59",
          "Leidschendam-Voorburg<br>Verdachten per 10.000 inwoners: 94",
          "Lisse<br>Verdachten per 10.000 inwoners: 58",
          "Maassluis<br>Verdachten per 10.000 inwoners: 86",
          "Midden-Delfland<br>Verdachten per 10.000 inwoners: 45",
          "Molenlanden<br>Verdachten per 10.000 inwoners: 58",
          "Nieuwkoop<br>Verdachten per 10.000 inwoners: 57",
          "Nissewaard<br>Verdachten per 10.000 inwoners: 113",
          "Noordwijk<br>Verdachten per 10.000 inwoners: 65",
          "Oegstgeest<br>Verdachten per 10.000 inwoners: 48",
          "Papendrecht<br>Verdachten per 10.000 inwoners: 70",
          "Pijnacker-Nootdorp<br>Verdachten per 10.000 inwoners: 70",
          "Ridderkerk<br>Verdachten per 10.000 inwoners: 76",
          "Rijswijk<br>Verdachten per 10.000 inwoners: 100",
          "Rotterdam<br>Verdachten per 10.000 inwoners: 153",
          "Schiedam<br>Verdachten per 10.000 inwoners: 121",
          "Sliedrecht<br>Verdachten per 10.000 inwoners: 63",
          "Teylingen<br>Verdachten per 10.000 inwoners: 58",
          "Vlaardingen<br>Verdachten per 10.000 inwoners: 111",
          "Voorschoten<br>Verdachten per 10.000 inwoners: 59",
          "Waddinxveen<br>Verdachten per 10.000 inwoners: 66",
          "Wassenaar<br>Verdachten per 10.000 inwoners: 74",
          "Westland<br>Verdachten per 10.000 inwoners: 64",
          "Westvoorne<br>Verdachten per 10.000 inwoners: 54",
          "Zoetermeer<br>Verdachten per 10.000 inwoners: 114",
          "Zoeterwoude<br>Verdachten per 10.000 inwoners: 45",
          "Zuidplas<br>Verdachten per 10.000 inwoners: 64",
          "Zwijndrecht<br>Verdachten per 10.000 inwoners: 81"
         ],
         "marker": {
          "color": "#93ae55"
         },
         "name": "Zuid-Holland",
         "type": "bar",
         "visible": false,
         "x": [
          "Alblasserdam",
          "Albrandswaard",
          "Alphen aan den Rijn",
          "Barendrecht",
          "Bodegraven-Reeuwijk",
          "Brielle",
          "Capelle aan den IJssel",
          "Delft",
          "Dordrecht",
          "Goeree-Overflakkee",
          "Gorinchem",
          "Gouda",
          "s-Gravenhage",
          "Hardinxveld-Giessendam",
          "Hellevoetsluis",
          "Hendrik-Ido-Ambacht",
          "Hillegom",
          "Hoeksche Waard",
          "Kaag en Braassem",
          "Katwijk",
          "Krimpen aan den IJssel",
          "Krimpenerwaard",
          "Lansingerland",
          "Leiden",
          "Leiderdorp",
          "Leidschendam-Voorburg",
          "Lisse",
          "Maassluis",
          "Midden-Delfland",
          "Molenlanden",
          "Nieuwkoop",
          "Nissewaard",
          "Noordwijk",
          "Oegstgeest",
          "Papendrecht",
          "Pijnacker-Nootdorp",
          "Ridderkerk",
          "Rijswijk",
          "Rotterdam",
          "Schiedam",
          "Sliedrecht",
          "Teylingen",
          "Vlaardingen",
          "Voorschoten",
          "Waddinxveen",
          "Wassenaar",
          "Westland",
          "Westvoorne",
          "Zoetermeer",
          "Zoeterwoude",
          "Zuidplas",
          "Zwijndrecht"
         ],
         "y": [
          61,
          86,
          88,
          67,
          55,
          68,
          99,
          84,
          111,
          58,
          77,
          98,
          148,
          53,
          83,
          52,
          71,
          58,
          67,
          64,
          65,
          63,
          64,
          82,
          59,
          94,
          58,
          86,
          45,
          58,
          57,
          113,
          65,
          48,
          70,
          70,
          76,
          100,
          153,
          121,
          63,
          58,
          111,
          59,
          66,
          74,
          64,
          54,
          114,
          45,
          64,
          81
         ]
        },
        {
         "hoverinfo": "text",
         "hovertext": [
          "Borsele<br>Verdachten per 10.000 inwoners: 60",
          "Goes<br>Verdachten per 10.000 inwoners: 80",
          "Hulst<br>Verdachten per 10.000 inwoners: 84",
          "Kapelle<br>Verdachten per 10.000 inwoners: 64",
          "Middelburg<br>Verdachten per 10.000 inwoners: 95",
          "Noord-Beveland<br>Verdachten per 10.000 inwoners: 82",
          "Reimerswaal<br>Verdachten per 10.000 inwoners: 61",
          "Schouwen-Duiveland<br>Verdachten per 10.000 inwoners: 60",
          "Sluis<br>Verdachten per 10.000 inwoners: 72",
          "Terneuzen<br>Verdachten per 10.000 inwoners: 96",
          "Tholen<br>Verdachten per 10.000 inwoners: 50",
          "Veere<br>Verdachten per 10.000 inwoners: 41",
          "Vlissingen<br>Verdachten per 10.000 inwoners: 137"
         ],
         "marker": {
          "color": "#f0be39"
         },
         "name": "Zeeland",
         "type": "bar",
         "visible": false,
         "x": [
          "Borsele",
          "Goes",
          "Hulst",
          "Kapelle",
          "Middelburg",
          "Noord-Beveland",
          "Reimerswaal",
          "Schouwen-Duiveland",
          "Sluis",
          "Terneuzen",
          "Tholen",
          "Veere",
          "Vlissingen"
         ],
         "y": [
          60,
          80,
          84,
          64,
          95,
          82,
          61,
          60,
          72,
          96,
          50,
          41,
          137
         ]
        },
        {
         "hoverinfo": "text",
         "hovertext": [
          "Alphen-Chaam<br>Verdachten per 10.000 inwoners: 29",
          "Altena<br>Verdachten per 10.000 inwoners: 64",
          "Asten<br>Verdachten per 10.000 inwoners: 63",
          "Baarle-Nassau<br>Verdachten per 10.000 inwoners: 54",
          "Bergeijk<br>Verdachten per 10.000 inwoners: 46",
          "Bergen op Zoom<br>Verdachten per 10.000 inwoners: 88",
          "Bernheze<br>Verdachten per 10.000 inwoners: 51",
          "Best<br>Verdachten per 10.000 inwoners: 59",
          "Bladel<br>Verdachten per 10.000 inwoners: 61",
          "Boekel<br>Verdachten per 10.000 inwoners: 78",
          "Boxtel<br>Verdachten per 10.000 inwoners: 67",
          "Breda<br>Verdachten per 10.000 inwoners: 81",
          "Cranendonck<br>Verdachten per 10.000 inwoners: 57",
          "Deurne<br>Verdachten per 10.000 inwoners: 67",
          "Dongen<br>Verdachten per 10.000 inwoners: 62",
          "Drimmelen<br>Verdachten per 10.000 inwoners: 47",
          "Eersel<br>Verdachten per 10.000 inwoners: 34",
          "Eindhoven<br>Verdachten per 10.000 inwoners: 101",
          "Etten-Leur<br>Verdachten per 10.000 inwoners: 66",
          "Geertruidenberg<br>Verdachten per 10.000 inwoners: 61",
          "Geldrop-Mierlo<br>Verdachten per 10.000 inwoners: 88",
          "Gemert-Bakel<br>Verdachten per 10.000 inwoners: 69",
          "Gilze en Rijen<br>Verdachten per 10.000 inwoners: 64",
          "Goirle<br>Verdachten per 10.000 inwoners: 40",
          "Halderberge<br>Verdachten per 10.000 inwoners: 65",
          "Heeze-Leende<br>Verdachten per 10.000 inwoners: 53",
          "Helmond<br>Verdachten per 10.000 inwoners: 125",
          "'s-Hertogenbosch<br>Verdachten per 10.000 inwoners: 92",
          "Heusden<br>Verdachten per 10.000 inwoners: 67",
          "Hilvarenbeek<br>Verdachten per 10.000 inwoners: 42",
          "Laarbeek<br>Verdachten per 10.000 inwoners: 61",
          "Land van Cuijk<br>Verdachten per 10.000 inwoners: 54",
          "Loon op Zand<br>Verdachten per 10.000 inwoners: 50",
          "Maashorst<br>Verdachten per 10.000 inwoners: 79",
          "Meierijstad<br>Verdachten per 10.000 inwoners: 66",
          "Moerdijk<br>Verdachten per 10.000 inwoners: 56",
          "Nuenen, Gerwen en Nederwetten<br>Verdachten per 10.000 inwoners: 48",
          "Oirschot<br>Verdachten per 10.000 inwoners: 49",
          "Oisterwijk<br>Verdachten per 10.000 inwoners: 45",
          "Oosterhout<br>Verdachten per 10.000 inwoners: 90",
          "Oss<br>Verdachten per 10.000 inwoners: 95",
          "Reusel-De Mierden<br>Verdachten per 10.000 inwoners: 49",
          "Roosendaal<br>Verdachten per 10.000 inwoners: 89",
          "Rucphen<br>Verdachten per 10.000 inwoners: 71",
          "Sint-Michielsgestel<br>Verdachten per 10.000 inwoners: 40",
          "Someren<br>Verdachten per 10.000 inwoners: 66",
          "Son en Breugel<br>Verdachten per 10.000 inwoners: 64",
          "Steenbergen<br>Verdachten per 10.000 inwoners: 49",
          "Tilburg<br>Verdachten per 10.000 inwoners: 97",
          "Valkenswaard<br>Verdachten per 10.000 inwoners: 76",
          "Veldhoven<br>Verdachten per 10.000 inwoners: 59",
          "Vught<br>Verdachten per 10.000 inwoners: 75",
          "Waalre<br>Verdachten per 10.000 inwoners: 56",
          "Waalwijk<br>Verdachten per 10.000 inwoners: 73",
          "Woensdrecht<br>Verdachten per 10.000 inwoners: 46",
          "Zundert<br>Verdachten per 10.000 inwoners: 40"
         ],
         "marker": {
          "color": "#c867a5"
         },
         "name": "Noord-Brabant",
         "type": "bar",
         "visible": false,
         "x": [
          "Alphen-Chaam",
          "Altena",
          "Asten",
          "Baarle-Nassau",
          "Bergeijk",
          "Bergen op Zoom",
          "Bernheze",
          "Best",
          "Bladel",
          "Boekel",
          "Boxtel",
          "Breda",
          "Cranendonck",
          "Deurne",
          "Dongen",
          "Drimmelen",
          "Eersel",
          "Eindhoven",
          "Etten-Leur",
          "Geertruidenberg",
          "Geldrop-Mierlo",
          "Gemert-Bakel",
          "Gilze en Rijen",
          "Goirle",
          "Halderberge",
          "Heeze-Leende",
          "Helmond",
          "'s-Hertogenbosch",
          "Heusden",
          "Hilvarenbeek",
          "Laarbeek",
          "Land van Cuijk",
          "Loon op Zand",
          "Maashorst",
          "Meierijstad",
          "Moerdijk",
          "Nuenen, Gerwen en Nederwetten",
          "Oirschot",
          "Oisterwijk",
          "Oosterhout",
          "Oss",
          "Reusel-De Mierden",
          "Roosendaal",
          "Rucphen",
          "Sint-Michielsgestel",
          "Someren",
          "Son en Breugel",
          "Steenbergen",
          "Tilburg",
          "Valkenswaard",
          "Veldhoven",
          "Vught",
          "Waalre",
          "Waalwijk",
          "Woensdrecht",
          "Zundert"
         ],
         "y": [
          29,
          64,
          63,
          54,
          46,
          88,
          51,
          59,
          61,
          78,
          67,
          81,
          57,
          67,
          62,
          47,
          34,
          101,
          66,
          61,
          88,
          69,
          64,
          40,
          65,
          53,
          125,
          92,
          67,
          42,
          61,
          54,
          50,
          79,
          66,
          56,
          48,
          49,
          45,
          90,
          95,
          49,
          89,
          71,
          40,
          66,
          64,
          49,
          97,
          76,
          59,
          75,
          56,
          73,
          46,
          40
         ]
        },
        {
         "hoverinfo": "text",
         "hovertext": [
          "Beek<br>Verdachten per 10.000 inwoners: 52",
          "Beekdaelen<br>Verdachten per 10.000 inwoners: 44",
          "Beesel<br>Verdachten per 10.000 inwoners: 38",
          "Bergen<br>Verdachten per 10.000 inwoners: 57",
          "Brunssum<br>Verdachten per 10.000 inwoners: 88",
          "Echt-Susteren<br>Verdachten per 10.000 inwoners: 82",
          "Eijsden-Margraten<br>Verdachten per 10.000 inwoners: 58",
          "Gennep<br>Verdachten per 10.000 inwoners: 82",
          "Gulpen-Wittem<br>Verdachten per 10.000 inwoners: 47",
          "Heerlen<br>Verdachten per 10.000 inwoners: 146",
          "Horst aan de Maas<br>Verdachten per 10.000 inwoners: 48",
          "Kerkrade<br>Verdachten per 10.000 inwoners: 109",
          "Landgraaf<br>Verdachten per 10.000 inwoners: 78",
          "Leudal<br>Verdachten per 10.000 inwoners: 52",
          "Maasgouw<br>Verdachten per 10.000 inwoners: 61",
          "Maastricht<br>Verdachten per 10.000 inwoners: 78",
          "Meerssen<br>Verdachten per 10.000 inwoners: 45",
          "Mook en Middelaar<br>Verdachten per 10.000 inwoners: 45",
          "Nederweert<br>Verdachten per 10.000 inwoners: 33",
          "Peel en Maas<br>Verdachten per 10.000 inwoners: 38",
          "Roerdalen<br>Verdachten per 10.000 inwoners: 60",
          "Roermond<br>Verdachten per 10.000 inwoners: 98",
          "Simpelveld<br>Verdachten per 10.000 inwoners: 51",
          "Sittard-Geleen<br>Verdachten per 10.000 inwoners: 91",
          "Stein<br>Verdachten per 10.000 inwoners: 61",
          "Vaals<br>Verdachten per 10.000 inwoners: 49",
          "Valkenburg aan de Geul<br>Verdachten per 10.000 inwoners: 58",
          "Venlo<br>Verdachten per 10.000 inwoners: 96",
          "Venray<br>Verdachten per 10.000 inwoners: 96",
          "Voerendaal<br>Verdachten per 10.000 inwoners: 40",
          "Weert<br>Verdachten per 10.000 inwoners: 75"
         ],
         "marker": {
          "color": "#d34467"
         },
         "name": "Limburg",
         "type": "bar",
         "visible": false,
         "x": [
          "Beek",
          "Beekdaelen",
          "Beesel",
          "Bergen",
          "Brunssum",
          "Echt-Susteren",
          "Eijsden-Margraten",
          "Gennep",
          "Gulpen-Wittem",
          "Heerlen",
          "Horst aan de Maas",
          "Kerkrade",
          "Landgraaf",
          "Leudal",
          "Maasgouw",
          "Maastricht",
          "Meerssen",
          "Mook en Middelaar",
          "Nederweert",
          "Peel en Maas",
          "Roerdalen",
          "Roermond",
          "Simpelveld",
          "Sittard-Geleen",
          "Stein",
          "Vaals",
          "Valkenburg aan de Geul",
          "Venlo",
          "Venray",
          "Voerendaal",
          "Weert"
         ],
         "y": [
          52,
          44,
          38,
          57,
          88,
          82,
          58,
          82,
          47,
          146,
          48,
          109,
          78,
          52,
          61,
          78,
          45,
          45,
          33,
          38,
          60,
          98,
          51,
          91,
          61,
          49,
          58,
          96,
          96,
          40,
          75
         ]
        }
       ],
       "layout": {
        "height": 500,
        "showlegend": false,
        "template": {
         "data": {
          "bar": [
           {
            "error_x": {
             "color": "#2a3f5f"
            },
            "error_y": {
             "color": "#2a3f5f"
            },
            "marker": {
             "line": {
              "color": "#E5ECF6",
              "width": 0.5
             },
             "pattern": {
              "fillmode": "overlay",
              "size": 10,
              "solidity": 0.2
             }
            },
            "type": "bar"
           }
          ],
          "barpolar": [
           {
            "marker": {
             "line": {
              "color": "#E5ECF6",
              "width": 0.5
             },
             "pattern": {
              "fillmode": "overlay",
              "size": 10,
              "solidity": 0.2
             }
            },
            "type": "barpolar"
           }
          ],
          "carpet": [
           {
            "aaxis": {
             "endlinecolor": "#2a3f5f",
             "gridcolor": "white",
             "linecolor": "white",
             "minorgridcolor": "white",
             "startlinecolor": "#2a3f5f"
            },
            "baxis": {
             "endlinecolor": "#2a3f5f",
             "gridcolor": "white",
             "linecolor": "white",
             "minorgridcolor": "white",
             "startlinecolor": "#2a3f5f"
            },
            "type": "carpet"
           }
          ],
          "choropleth": [
           {
            "colorbar": {
             "outlinewidth": 0,
             "ticks": ""
            },
            "type": "choropleth"
           }
          ],
          "contour": [
           {
            "colorbar": {
             "outlinewidth": 0,
             "ticks": ""
            },
            "colorscale": [
             [
              0,
              "#0d0887"
             ],
             [
              0.1111111111111111,
              "#46039f"
             ],
             [
              0.2222222222222222,
              "#7201a8"
             ],
             [
              0.3333333333333333,
              "#9c179e"
             ],
             [
              0.4444444444444444,
              "#bd3786"
             ],
             [
              0.5555555555555556,
              "#d8576b"
             ],
             [
              0.6666666666666666,
              "#ed7953"
             ],
             [
              0.7777777777777778,
              "#fb9f3a"
             ],
             [
              0.8888888888888888,
              "#fdca26"
             ],
             [
              1,
              "#f0f921"
             ]
            ],
            "type": "contour"
           }
          ],
          "contourcarpet": [
           {
            "colorbar": {
             "outlinewidth": 0,
             "ticks": ""
            },
            "type": "contourcarpet"
           }
          ],
          "heatmap": [
           {
            "colorbar": {
             "outlinewidth": 0,
             "ticks": ""
            },
            "colorscale": [
             [
              0,
              "#0d0887"
             ],
             [
              0.1111111111111111,
              "#46039f"
             ],
             [
              0.2222222222222222,
              "#7201a8"
             ],
             [
              0.3333333333333333,
              "#9c179e"
             ],
             [
              0.4444444444444444,
              "#bd3786"
             ],
             [
              0.5555555555555556,
              "#d8576b"
             ],
             [
              0.6666666666666666,
              "#ed7953"
             ],
             [
              0.7777777777777778,
              "#fb9f3a"
             ],
             [
              0.8888888888888888,
              "#fdca26"
             ],
             [
              1,
              "#f0f921"
             ]
            ],
            "type": "heatmap"
           }
          ],
          "heatmapgl": [
           {
            "colorbar": {
             "outlinewidth": 0,
             "ticks": ""
            },
            "colorscale": [
             [
              0,
              "#0d0887"
             ],
             [
              0.1111111111111111,
              "#46039f"
             ],
             [
              0.2222222222222222,
              "#7201a8"
             ],
             [
              0.3333333333333333,
              "#9c179e"
             ],
             [
              0.4444444444444444,
              "#bd3786"
             ],
             [
              0.5555555555555556,
              "#d8576b"
             ],
             [
              0.6666666666666666,
              "#ed7953"
             ],
             [
              0.7777777777777778,
              "#fb9f3a"
             ],
             [
              0.8888888888888888,
              "#fdca26"
             ],
             [
              1,
              "#f0f921"
             ]
            ],
            "type": "heatmapgl"
           }
          ],
          "histogram": [
           {
            "marker": {
             "pattern": {
              "fillmode": "overlay",
              "size": 10,
              "solidity": 0.2
             }
            },
            "type": "histogram"
           }
          ],
          "histogram2d": [
           {
            "colorbar": {
             "outlinewidth": 0,
             "ticks": ""
            },
            "colorscale": [
             [
              0,
              "#0d0887"
             ],
             [
              0.1111111111111111,
              "#46039f"
             ],
             [
              0.2222222222222222,
              "#7201a8"
             ],
             [
              0.3333333333333333,
              "#9c179e"
             ],
             [
              0.4444444444444444,
              "#bd3786"
             ],
             [
              0.5555555555555556,
              "#d8576b"
             ],
             [
              0.6666666666666666,
              "#ed7953"
             ],
             [
              0.7777777777777778,
              "#fb9f3a"
             ],
             [
              0.8888888888888888,
              "#fdca26"
             ],
             [
              1,
              "#f0f921"
             ]
            ],
            "type": "histogram2d"
           }
          ],
          "histogram2dcontour": [
           {
            "colorbar": {
             "outlinewidth": 0,
             "ticks": ""
            },
            "colorscale": [
             [
              0,
              "#0d0887"
             ],
             [
              0.1111111111111111,
              "#46039f"
             ],
             [
              0.2222222222222222,
              "#7201a8"
             ],
             [
              0.3333333333333333,
              "#9c179e"
             ],
             [
              0.4444444444444444,
              "#bd3786"
             ],
             [
              0.5555555555555556,
              "#d8576b"
             ],
             [
              0.6666666666666666,
              "#ed7953"
             ],
             [
              0.7777777777777778,
              "#fb9f3a"
             ],
             [
              0.8888888888888888,
              "#fdca26"
             ],
             [
              1,
              "#f0f921"
             ]
            ],
            "type": "histogram2dcontour"
           }
          ],
          "mesh3d": [
           {
            "colorbar": {
             "outlinewidth": 0,
             "ticks": ""
            },
            "type": "mesh3d"
           }
          ],
          "parcoords": [
           {
            "line": {
             "colorbar": {
              "outlinewidth": 0,
              "ticks": ""
             }
            },
            "type": "parcoords"
           }
          ],
          "pie": [
           {
            "automargin": true,
            "type": "pie"
           }
          ],
          "scatter": [
           {
            "fillpattern": {
             "fillmode": "overlay",
             "size": 10,
             "solidity": 0.2
            },
            "type": "scatter"
           }
          ],
          "scatter3d": [
           {
            "line": {
             "colorbar": {
              "outlinewidth": 0,
              "ticks": ""
             }
            },
            "marker": {
             "colorbar": {
              "outlinewidth": 0,
              "ticks": ""
             }
            },
            "type": "scatter3d"
           }
          ],
          "scattercarpet": [
           {
            "marker": {
             "colorbar": {
              "outlinewidth": 0,
              "ticks": ""
             }
            },
            "type": "scattercarpet"
           }
          ],
          "scattergeo": [
           {
            "marker": {
             "colorbar": {
              "outlinewidth": 0,
              "ticks": ""
             }
            },
            "type": "scattergeo"
           }
          ],
          "scattergl": [
           {
            "marker": {
             "colorbar": {
              "outlinewidth": 0,
              "ticks": ""
             }
            },
            "type": "scattergl"
           }
          ],
          "scattermapbox": [
           {
            "marker": {
             "colorbar": {
              "outlinewidth": 0,
              "ticks": ""
             }
            },
            "type": "scattermapbox"
           }
          ],
          "scatterpolar": [
           {
            "marker": {
             "colorbar": {
              "outlinewidth": 0,
              "ticks": ""
             }
            },
            "type": "scatterpolar"
           }
          ],
          "scatterpolargl": [
           {
            "marker": {
             "colorbar": {
              "outlinewidth": 0,
              "ticks": ""
             }
            },
            "type": "scatterpolargl"
           }
          ],
          "scatterternary": [
           {
            "marker": {
             "colorbar": {
              "outlinewidth": 0,
              "ticks": ""
             }
            },
            "type": "scatterternary"
           }
          ],
          "surface": [
           {
            "colorbar": {
             "outlinewidth": 0,
             "ticks": ""
            },
            "colorscale": [
             [
              0,
              "#0d0887"
             ],
             [
              0.1111111111111111,
              "#46039f"
             ],
             [
              0.2222222222222222,
              "#7201a8"
             ],
             [
              0.3333333333333333,
              "#9c179e"
             ],
             [
              0.4444444444444444,
              "#bd3786"
             ],
             [
              0.5555555555555556,
              "#d8576b"
             ],
             [
              0.6666666666666666,
              "#ed7953"
             ],
             [
              0.7777777777777778,
              "#fb9f3a"
             ],
             [
              0.8888888888888888,
              "#fdca26"
             ],
             [
              1,
              "#f0f921"
             ]
            ],
            "type": "surface"
           }
          ],
          "table": [
           {
            "cells": {
             "fill": {
              "color": "#EBF0F8"
             },
             "line": {
              "color": "white"
             }
            },
            "header": {
             "fill": {
              "color": "#C8D4E3"
             },
             "line": {
              "color": "white"
             }
            },
            "type": "table"
           }
          ]
         },
         "layout": {
          "annotationdefaults": {
           "arrowcolor": "#2a3f5f",
           "arrowhead": 0,
           "arrowwidth": 1
          },
          "autotypenumbers": "strict",
          "coloraxis": {
           "colorbar": {
            "outlinewidth": 0,
            "ticks": ""
           }
          },
          "colorscale": {
           "diverging": [
            [
             0,
             "#8e0152"
            ],
            [
             0.1,
             "#c51b7d"
            ],
            [
             0.2,
             "#de77ae"
            ],
            [
             0.3,
             "#f1b6da"
            ],
            [
             0.4,
             "#fde0ef"
            ],
            [
             0.5,
             "#f7f7f7"
            ],
            [
             0.6,
             "#e6f5d0"
            ],
            [
             0.7,
             "#b8e186"
            ],
            [
             0.8,
             "#7fbc41"
            ],
            [
             0.9,
             "#4d9221"
            ],
            [
             1,
             "#276419"
            ]
           ],
           "sequential": [
            [
             0,
             "#0d0887"
            ],
            [
             0.1111111111111111,
             "#46039f"
            ],
            [
             0.2222222222222222,
             "#7201a8"
            ],
            [
             0.3333333333333333,
             "#9c179e"
            ],
            [
             0.4444444444444444,
             "#bd3786"
            ],
            [
             0.5555555555555556,
             "#d8576b"
            ],
            [
             0.6666666666666666,
             "#ed7953"
            ],
            [
             0.7777777777777778,
             "#fb9f3a"
            ],
            [
             0.8888888888888888,
             "#fdca26"
            ],
            [
             1,
             "#f0f921"
            ]
           ],
           "sequentialminus": [
            [
             0,
             "#0d0887"
            ],
            [
             0.1111111111111111,
             "#46039f"
            ],
            [
             0.2222222222222222,
             "#7201a8"
            ],
            [
             0.3333333333333333,
             "#9c179e"
            ],
            [
             0.4444444444444444,
             "#bd3786"
            ],
            [
             0.5555555555555556,
             "#d8576b"
            ],
            [
             0.6666666666666666,
             "#ed7953"
            ],
            [
             0.7777777777777778,
             "#fb9f3a"
            ],
            [
             0.8888888888888888,
             "#fdca26"
            ],
            [
             1,
             "#f0f921"
            ]
           ]
          },
          "colorway": [
           "#636efa",
           "#EF553B",
           "#00cc96",
           "#ab63fa",
           "#FFA15A",
           "#19d3f3",
           "#FF6692",
           "#B6E880",
           "#FF97FF",
           "#FECB52"
          ],
          "font": {
           "color": "#2a3f5f"
          },
          "geo": {
           "bgcolor": "white",
           "lakecolor": "white",
           "landcolor": "#E5ECF6",
           "showlakes": true,
           "showland": true,
           "subunitcolor": "white"
          },
          "hoverlabel": {
           "align": "left"
          },
          "hovermode": "closest",
          "mapbox": {
           "style": "light"
          },
          "paper_bgcolor": "white",
          "plot_bgcolor": "#E5ECF6",
          "polar": {
           "angularaxis": {
            "gridcolor": "white",
            "linecolor": "white",
            "ticks": ""
           },
           "bgcolor": "#E5ECF6",
           "radialaxis": {
            "gridcolor": "white",
            "linecolor": "white",
            "ticks": ""
           }
          },
          "scene": {
           "xaxis": {
            "backgroundcolor": "#E5ECF6",
            "gridcolor": "white",
            "gridwidth": 2,
            "linecolor": "white",
            "showbackground": true,
            "ticks": "",
            "zerolinecolor": "white"
           },
           "yaxis": {
            "backgroundcolor": "#E5ECF6",
            "gridcolor": "white",
            "gridwidth": 2,
            "linecolor": "white",
            "showbackground": true,
            "ticks": "",
            "zerolinecolor": "white"
           },
           "zaxis": {
            "backgroundcolor": "#E5ECF6",
            "gridcolor": "white",
            "gridwidth": 2,
            "linecolor": "white",
            "showbackground": true,
            "ticks": "",
            "zerolinecolor": "white"
           }
          },
          "shapedefaults": {
           "line": {
            "color": "#2a3f5f"
           }
          },
          "ternary": {
           "aaxis": {
            "gridcolor": "white",
            "linecolor": "white",
            "ticks": ""
           },
           "baxis": {
            "gridcolor": "white",
            "linecolor": "white",
            "ticks": ""
           },
           "bgcolor": "#E5ECF6",
           "caxis": {
            "gridcolor": "white",
            "linecolor": "white",
            "ticks": ""
           }
          },
          "title": {
           "x": 0.05
          },
          "xaxis": {
           "automargin": true,
           "gridcolor": "white",
           "linecolor": "white",
           "ticks": "",
           "title": {
            "standoff": 15
           },
           "zerolinecolor": "white",
           "zerolinewidth": 2
          },
          "yaxis": {
           "automargin": true,
           "gridcolor": "white",
           "linecolor": "white",
           "ticks": "",
           "title": {
            "standoff": 15
           },
           "zerolinecolor": "white",
           "zerolinewidth": 2
          }
         }
        },
        "title": {
         "text": "Aantal misdaden per 10.000 inwoners verschillende gemeentes en provincies",
         "x": 0.5
        },
        "updatemenus": [
         {
          "buttons": [
           {
            "args": [
             {
              "visible": [
               true,
               false,
               false,
               false,
               false,
               false,
               false,
               false,
               false,
               false,
               false,
               false,
               false
              ]
             },
             {
              "title": "Aantal misdaden per 10.000 inwoners alle provincies"
             }
            ],
            "label": "Alle provincies",
            "method": "update"
           },
           {
            "args": [
             {
              "visible": [
               false,
               true,
               false,
               false,
               false,
               false,
               false,
               false,
               false,
               false,
               false,
               false,
               false
              ]
             },
             {
              "title": "Aantal misdaden per 10.000 inwoners gemeente Groningen"
             }
            ],
            "label": "Groningen",
            "method": "update"
           },
           {
            "args": [
             {
              "visible": [
               false,
               false,
               true,
               false,
               false,
               false,
               false,
               false,
               false,
               false,
               false,
               false,
               false
              ]
             },
             {
              "title": "Aantal misdaden per 10.000 inwoners gemeente Friesland"
             }
            ],
            "label": "Friesland",
            "method": "update"
           },
           {
            "args": [
             {
              "visible": [
               false,
               false,
               false,
               true,
               false,
               false,
               false,
               false,
               false,
               false,
               false,
               false,
               false
              ]
             },
             {
              "title": "Aantal misdaden per 10.000 inwoners gemeente Drenthe"
             }
            ],
            "label": "Drenthe",
            "method": "update"
           },
           {
            "args": [
             {
              "visible": [
               false,
               false,
               false,
               false,
               true,
               false,
               false,
               false,
               false,
               false,
               false,
               false,
               false
              ]
             },
             {
              "title": "Aantal misdaden per 10.000 inwoners gemeente Overijssel"
             }
            ],
            "label": "Overijssel",
            "method": "update"
           },
           {
            "args": [
             {
              "visible": [
               false,
               false,
               false,
               false,
               false,
               true,
               false,
               false,
               false,
               false,
               false,
               false,
               false
              ]
             },
             {
              "title": "Aantal misdaden per 10.000 inwoners gemeente Flevoland"
             }
            ],
            "label": "Flevoland",
            "method": "update"
           },
           {
            "args": [
             {
              "visible": [
               false,
               false,
               false,
               false,
               false,
               false,
               true,
               false,
               false,
               false,
               false,
               false,
               false
              ]
             },
             {
              "title": "Aantal misdaden per 10.000 inwoners gemeente Gelderland"
             }
            ],
            "label": "Gelderland",
            "method": "update"
           },
           {
            "args": [
             {
              "visible": [
               false,
               false,
               false,
               false,
               false,
               false,
               false,
               true,
               false,
               false,
               false,
               false,
               false
              ]
             },
             {
              "title": "Aantal misdaden per 10.000 inwoners gemeente Utrecht"
             }
            ],
            "label": "Utrecht",
            "method": "update"
           },
           {
            "args": [
             {
              "visible": [
               false,
               false,
               false,
               false,
               false,
               false,
               false,
               false,
               true,
               false,
               false,
               false,
               false
              ]
             },
             {
              "title": "Aantal misdaden per 10.000 inwoners gemeente Noord-Holland"
             }
            ],
            "label": "Noord-Holland",
            "method": "update"
           },
           {
            "args": [
             {
              "visible": [
               false,
               false,
               false,
               false,
               false,
               false,
               false,
               false,
               false,
               true,
               false,
               false,
               false
              ]
             },
             {
              "title": "Aantal misdaden per 10.000 inwoners gemeente Zuid-Holland"
             }
            ],
            "label": "Zuid-Holland",
            "method": "update"
           },
           {
            "args": [
             {
              "visible": [
               false,
               false,
               false,
               false,
               false,
               false,
               false,
               false,
               false,
               false,
               true,
               false,
               false
              ]
             },
             {
              "title": "Aantal misdaden per 10.000 inwoners gemeente Zeeland"
             }
            ],
            "label": "Zeeland",
            "method": "update"
           },
           {
            "args": [
             {
              "visible": [
               false,
               false,
               false,
               false,
               false,
               false,
               false,
               false,
               false,
               false,
               false,
               true,
               false
              ]
             },
             {
              "title": "Aantal misdaden per 10.000 inwoners gemeente Noord-Brabant"
             }
            ],
            "label": "Noord-Brabant",
            "method": "update"
           },
           {
            "args": [
             {
              "visible": [
               false,
               false,
               false,
               false,
               false,
               false,
               false,
               false,
               false,
               false,
               false,
               false,
               true
              ]
             },
             {
              "title": "Aantal misdaden per 10.000 inwoners gemeente Limburg"
             }
            ],
            "label": "Limburg",
            "method": "update"
           }
          ],
          "direction": "down",
          "pad": {
           "r": 8,
           "t": 8
          },
          "showactive": true,
          "x": 0.12,
          "xanchor": "center",
          "y": 1.15,
          "yanchor": "top"
         }
        ],
        "width": 750,
        "xaxis": {
         "tickangle": -55,
         "tickfont": {
          "size": 7.5
         }
        },
        "yaxis": {
         "title": {
          "text": "verdachten per 10 000 inwoners"
         }
        }
       }
      }
     },
     "metadata": {},
     "output_type": "display_data"
    }
   ],
   "source": [
    "import pandas as pd\n",
    "import plotly.graph_objects as go\n",
    "\n",
    "df = pd.read_csv('misdaad_totaal_provincies.csv', sep=';')\n",
    "\n",
    "provincies = df[df['Provincie'] == 'Provlos']\n",
    "groningen = df[df['Provincie'] == 'Groningen']\n",
    "friesland = df[df['Provincie'] == 'Friesland']\n",
    "drenthe = df[df['Provincie'] == 'Drenthe']\n",
    "overijssel = df[df['Provincie'] == 'Overijssel']\n",
    "flevoland = df[df['Provincie'] == 'Flevoland']\n",
    "gelderland = df[df['Provincie'] == 'Gelderland']\n",
    "utrecht = df[df['Provincie'] == 'Utrecht']\n",
    "noord_holland = df[df['Provincie'] == 'Noord-Holland']\n",
    "zuid_holland = df[df['Provincie'] == 'Zuid-Holland']\n",
    "zeeland = df[df['Provincie'] == 'Zeeland']\n",
    "noord_brabant = df[df['Provincie'] == 'Noord-Brabant']\n",
    "limburg = df[df['Provincie'] == 'Limburg']\n",
    "\n",
    "fig = go.Figure()\n",
    "\n",
    "colors = [\n",
    "    '#359d73', '#27958f', '#8c5792', '#1887ab', '#a9629f', \n",
    "    '#4f73a1', '#e46828', '#ac1917', '#93ae55', '#f0be39', \n",
    "    '#c867a5', '#d34467'\n",
    "]\n",
    "\n",
    "fig.add_trace(go.Bar(\n",
    "    x=provincies['Gemeente'],\n",
    "    y=provincies['Verdachten per 10 000 inwoners'],\n",
    "    marker=dict(color=colors),\n",
    "    hovertext=provincies['Gemeente'] + '<br>Verdachten per 10.000 inwoners: ' + provincies['Verdachten per 10 000 inwoners'].astype(str),\n",
    "    hoverinfo='text',\n",
    "    name='Alle provincies'\n",
    "))\n",
    "\n",
    "fig.add_trace(go.Bar(\n",
    "    x=groningen['Gemeente'],\n",
    "    y=groningen['Verdachten per 10 000 inwoners'],\n",
    "    marker_color='#359d73',\n",
    "    hovertext=groningen['Gemeente'] + '<br>Verdachten per 10.000 inwoners: ' + groningen['Verdachten per 10 000 inwoners'].astype(str),\n",
    "    hoverinfo='text',\n",
    "    name='Groningen'\n",
    "))\n",
    "\n",
    "fig.add_trace(go.Bar(\n",
    "    x=friesland['Gemeente'],\n",
    "    y=friesland['Verdachten per 10 000 inwoners'],\n",
    "    marker_color='#27958f',\n",
    "    hovertext=friesland['Gemeente'] + '<br>Verdachten per 10.000 inwoners: ' + friesland['Verdachten per 10 000 inwoners'].astype(str),\n",
    "    hoverinfo='text',\n",
    "    name='Friesland'\n",
    "))\n",
    "\n",
    "fig.add_trace(go.Bar(\n",
    "    x=drenthe['Gemeente'],\n",
    "    y=drenthe['Verdachten per 10 000 inwoners'],\n",
    "    marker_color='#8c5792',\n",
    "    hovertext=drenthe['Gemeente'] + '<br>Verdachten per 10.000 inwoners: ' + drenthe['Verdachten per 10 000 inwoners'].astype(str),\n",
    "    hoverinfo='text',\n",
    "    name='Drenthe'\n",
    "))\n",
    "\n",
    "fig.add_trace(go.Bar(\n",
    "    x=overijssel['Gemeente'],\n",
    "    y=overijssel['Verdachten per 10 000 inwoners'],\n",
    "    marker_color='#1887ab',\n",
    "    hovertext=overijssel['Gemeente'] + '<br>Verdachten per 10.000 inwoners: ' + overijssel['Verdachten per 10 000 inwoners'].astype(str),\n",
    "    hoverinfo='text',\n",
    "    name='Overijssel'\n",
    "))\n",
    "\n",
    "fig.add_trace(go.Bar(\n",
    "    x=flevoland['Gemeente'],\n",
    "    y=flevoland['Verdachten per 10 000 inwoners'],\n",
    "    marker_color='#a9629f',\n",
    "    hovertext=flevoland['Gemeente'] + '<br>Verdachten per 10.000 inwoners: ' + flevoland['Verdachten per 10 000 inwoners'].astype(str),\n",
    "    hoverinfo='text',\n",
    "    name='Flevoland'\n",
    "))\n",
    "\n",
    "fig.add_trace(go.Bar(\n",
    "    x=gelderland['Gemeente'],\n",
    "    y=gelderland['Verdachten per 10 000 inwoners'],\n",
    "    marker_color='#4f73a1',\n",
    "    hovertext=gelderland['Gemeente'] + '<br>Verdachten per 10.000 inwoners: ' + gelderland['Verdachten per 10 000 inwoners'].astype(str),\n",
    "    hoverinfo='text',\n",
    "    name='Gelderland'\n",
    "))\n",
    "\n",
    "fig.add_trace(go.Bar(\n",
    "    x=utrecht['Gemeente'],\n",
    "    y=utrecht['Verdachten per 10 000 inwoners'],\n",
    "    marker_color='#e46828',\n",
    "    hovertext=utrecht['Gemeente'] + '<br>Verdachten per 10.000 inwoners: ' + utrecht['Verdachten per 10 000 inwoners'].astype(str),\n",
    "    hoverinfo='text',\n",
    "    name='Utrecht'\n",
    "))\n",
    "\n",
    "fig.add_trace(go.Bar(\n",
    "    x=noord_holland['Gemeente'],\n",
    "    y=noord_holland['Verdachten per 10 000 inwoners'],\n",
    "    marker_color='#ac1917',\n",
    "    hovertext=noord_holland['Gemeente'] + '<br>Verdachten per 10.000 inwoners: ' + noord_holland['Verdachten per 10 000 inwoners'].astype(str),\n",
    "    hoverinfo='text',\n",
    "    name='Noord-Holland'\n",
    "))\n",
    "\n",
    "fig.add_trace(go.Bar(\n",
    "    x=zuid_holland['Gemeente'],\n",
    "    y=zuid_holland['Verdachten per 10 000 inwoners'],\n",
    "    marker_color='#93ae55',\n",
    "    hovertext=zuid_holland['Gemeente'] + '<br>Verdachten per 10.000 inwoners: ' + zuid_holland['Verdachten per 10 000 inwoners'].astype(str),\n",
    "    hoverinfo='text',\n",
    "    name='Zuid-Holland'\n",
    "))\n",
    "\n",
    "fig.add_trace(go.Bar(\n",
    "    x=zeeland['Gemeente'],\n",
    "    y=zeeland['Verdachten per 10 000 inwoners'],\n",
    "    marker_color='#f0be39',\n",
    "    hovertext=zeeland['Gemeente'] + '<br>Verdachten per 10.000 inwoners: ' + zeeland['Verdachten per 10 000 inwoners'].astype(str),\n",
    "    hoverinfo='text',\n",
    "    name='Zeeland'\n",
    "))\n",
    "\n",
    "fig.add_trace(go.Bar(\n",
    "    x=noord_brabant['Gemeente'],\n",
    "    y=noord_brabant['Verdachten per 10 000 inwoners'],\n",
    "    marker_color='#c867a5',\n",
    "    hovertext=noord_brabant['Gemeente'] + '<br>Verdachten per 10.000 inwoners: ' + noord_brabant['Verdachten per 10 000 inwoners'].astype(str),\n",
    "    hoverinfo='text',\n",
    "    name='Noord-Brabant'\n",
    "))\n",
    "\n",
    "fig.add_trace(go.Bar(\n",
    "    x=limburg['Gemeente'],\n",
    "    y=limburg['Verdachten per 10 000 inwoners'],\n",
    "    marker_color='#d34467',\n",
    "    hovertext=limburg['Gemeente'] + '<br>Verdachten per 10.000 inwoners: ' + limburg['Verdachten per 10 000 inwoners'].astype(str),\n",
    "    hoverinfo='text',\n",
    "    name='Limburg'\n",
    "))\n",
    "\n",
    "fig.update_layout(\n",
    "    updatemenus=[\n",
    "        {\n",
    "            'buttons': [\n",
    "                {\n",
    "                    'label': 'Alle provincies',\n",
    "                    'method': 'update',\n",
    "                    'args': [{'visible': [True, False, False, False, False, False, False, False, False, False, False, False, False]},\n",
    "                             {'title': 'Aantal misdaden per 10.000 inwoners alle provincies'}]\n",
    "                },\n",
    "                {\n",
    "                    'label': 'Groningen',\n",
    "                    'method': 'update',\n",
    "                    'args': [{'visible': [False, True, False, False, False, False, False, False, False, False, False, False, False]},\n",
    "                             {'title': 'Aantal misdaden per 10.000 inwoners gemeente Groningen'}]\n",
    "                },\n",
    "                {\n",
    "                    'label': 'Friesland',\n",
    "                    'method': 'update',\n",
    "                    'args': [{'visible': [False, False, True, False, False, False, False, False, False, False, False, False, False]},\n",
    "                             {'title': 'Aantal misdaden per 10.000 inwoners gemeente Friesland'}]\n",
    "                },\n",
    "                {\n",
    "                    'label': 'Drenthe',\n",
    "                    'method': 'update',\n",
    "                    'args': [{'visible': [False, False, False, True, False, False, False, False, False, False, False, False, False]},\n",
    "                             {'title': 'Aantal misdaden per 10.000 inwoners gemeente Drenthe'}]\n",
    "                },\n",
    "                {\n",
    "                    'label': 'Overijssel',\n",
    "                    'method': 'update',\n",
    "                    'args': [{'visible': [False, False, False, False, True, False, False, False, False, False, False, False, False]},\n",
    "                             {'title': 'Aantal misdaden per 10.000 inwoners gemeente Overijssel'}]\n",
    "                },\n",
    "                {\n",
    "                    'label': 'Flevoland',\n",
    "                    'method': 'update',\n",
    "                    'args': [{'visible': [False, False, False, False, False, True, False, False, False, False, False, False, False]},\n",
    "                             {'title': 'Aantal misdaden per 10.000 inwoners gemeente Flevoland'}]\n",
    "                },\n",
    "                {\n",
    "                    'label': 'Gelderland',\n",
    "                    'method': 'update',\n",
    "                    'args': [{'visible': [False, False, False, False, False, False, True, False, False, False, False, False, False]},\n",
    "                             {'title': 'Aantal misdaden per 10.000 inwoners gemeente Gelderland'}]\n",
    "                },\n",
    "                {\n",
    "                    'label': 'Utrecht',\n",
    "                    'method': 'update',\n",
    "                    'args': [{'visible': [False, False, False, False, False, False, False, True, False, False, False, False, False]},\n",
    "                             {'title': 'Aantal misdaden per 10.000 inwoners gemeente Utrecht'}]\n",
    "                },\n",
    "                {\n",
    "                    'label': 'Noord-Holland',\n",
    "                    'method': 'update',\n",
    "                    'args': [{'visible': [False, False, False, False, False, False, False, False, True, False, False, False, False]},\n",
    "                             {'title': 'Aantal misdaden per 10.000 inwoners gemeente Noord-Holland'}]\n",
    "                },\n",
    "                {\n",
    "                    'label': 'Zuid-Holland',\n",
    "                    'method': 'update',\n",
    "                    'args': [{'visible': [False, False, False, False, False, False, False, False, False, True, False, False, False]},\n",
    "                             {'title': 'Aantal misdaden per 10.000 inwoners gemeente Zuid-Holland'}]\n",
    "                },\n",
    "                {\n",
    "                    'label': 'Zeeland',\n",
    "                    'method': 'update',\n",
    "                    'args': [{'visible': [False, False, False, False, False, False, False, False, False, False, True, False, False]},\n",
    "                             {'title': 'Aantal misdaden per 10.000 inwoners gemeente Zeeland'}]\n",
    "                },\n",
    "                {\n",
    "                    'label': 'Noord-Brabant',\n",
    "                    'method': 'update',\n",
    "                    'args': [{'visible': [False, False, False, False, False, False, False, False, False, False, False, True, False]},\n",
    "                             {'title': 'Aantal misdaden per 10.000 inwoners gemeente Noord-Brabant'}]\n",
    "                },\n",
    "                {\n",
    "                    'label': 'Limburg',\n",
    "                    'method': 'update',\n",
    "                    'args': [{'visible': [False, False, False, False, False, False, False, False, False, False, False, False, True]},\n",
    "                             {'title': 'Aantal misdaden per 10.000 inwoners gemeente Limburg'}]\n",
    "                }\n",
    "            ],\n",
    "            'direction': 'down',\n",
    "            'showactive': True,\n",
    "            'x': 0.12,\n",
    "            'xanchor': 'center',\n",
    "            'y': 1.15,\n",
    "            'yanchor': 'top',\n",
    "            'pad': {'r': 8, 't': 8},\n",
    "        }\n",
    "    ],\n",
    "    title='Aantal misdaden per 10.000 inwoners verschillende gemeentes en provincies',\n",
    "    title_x=0.5,\n",
    "    showlegend=False,\n",
    "    width=750,\n",
    "    height=500\n",
    ")\n",
    "\n",
    "fig.data[1].visible = False\n",
    "fig.data[2].visible = False\n",
    "fig.data[3].visible = False\n",
    "fig.data[4].visible = False\n",
    "fig.data[5].visible = False\n",
    "fig.data[6].visible = False\n",
    "fig.data[7].visible = False\n",
    "fig.data[8].visible = False\n",
    "fig.data[9].visible = False\n",
    "fig.data[10].visible = False\n",
    "fig.data[11].visible = False\n",
    "fig.data[12].visible = False\n",
    "\n",
    "fig.update_xaxes(tickangle=-55, tickfont=dict(size=7.5))\n",
    "fig.update_yaxes(title_text='verdachten per 10 000 inwoners')\n",
    "\n",
    "fig.show()"
   ]
  }
 ],
 "metadata": {
  "kernelspec": {
   "display_name": "Python 3",
   "language": "python",
   "name": "python3"
  },
  "language_info": {
   "codemirror_mode": {
    "name": "ipython",
    "version": 3
   },
   "file_extension": ".py",
   "mimetype": "text/x-python",
   "name": "python",
   "nbconvert_exporter": "python",
   "pygments_lexer": "ipython3",
   "version": "3.11.5"
  }
 },
 "nbformat": 4,
 "nbformat_minor": 2
}
