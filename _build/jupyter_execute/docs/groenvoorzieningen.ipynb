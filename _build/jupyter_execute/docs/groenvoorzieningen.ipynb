{
 "cells": [
  {
   "cell_type": "code",
   "execution_count": 1,
   "metadata": {},
   "outputs": [
    {
     "data": {
      "text/html": [
       "        <script type=\"text/javascript\">\n",
       "        window.PlotlyConfig = {MathJaxConfig: 'local'};\n",
       "        if (window.MathJax && window.MathJax.Hub && window.MathJax.Hub.Config) {window.MathJax.Hub.Config({SVG: {font: \"STIX-Web\"}});}\n",
       "        if (typeof require !== 'undefined') {\n",
       "        require.undef(\"plotly\");\n",
       "        requirejs.config({\n",
       "            paths: {\n",
       "                'plotly': ['https://cdn.plot.ly/plotly-2.32.0.min']\n",
       "            }\n",
       "        });\n",
       "        require(['plotly'], function(Plotly) {\n",
       "            window._Plotly = Plotly;\n",
       "        });\n",
       "        }\n",
       "        </script>\n",
       "        "
      ]
     },
     "metadata": {},
     "output_type": "display_data"
    }
   ],
   "source": [
    "import plotly.graph_objs as go\n",
    "import plotly.express as px\n",
    "import pandas as pd\n",
    "import plotly.graph_objects as go\n",
    "import matplotlib.pyplot as plt\n",
    "\n",
    "from plotly.offline import init_notebook_mode\n",
    "init_notebook_mode(connected=True)"
   ]
  },
  {
   "cell_type": "code",
   "execution_count": 2,
   "metadata": {},
   "outputs": [
    {
     "data": {
      "application/vnd.plotly.v1+json": {
       "config": {
        "plotlyServerURL": "https://plot.ly"
       },
       "data": [
        {
         "hovertemplate": "Gemeente: %{hovertext}<br>Aantal: %{y}",
         "hovertext": [
          "Aa en Hunze",
          "Aalburg",
          "Aalsmeer",
          "Aalten",
          "Achtkarspelen",
          "Alblasserdam",
          "Albrandswaard",
          "Alkmaar",
          "Almelo",
          "Almere",
          "Alphen aan den Rijn",
          "Alphen-Chaam",
          "Ameland",
          "Amersfoort",
          "Amstelveen",
          "Amsterdam",
          "Apeldoorn",
          "Appingedam",
          "Arnhem",
          "Assen",
          "Asten",
          "Baarle-Nassau",
          "Baarn",
          "Barendrecht",
          "Barneveld",
          "Bedum",
          "Beek (L.)",
          "Beemster",
          "Beesel",
          "Bellingwedde",
          "Berg en Dal",
          "Bergeijk",
          "Bergen (L.)",
          "Bergen (NH.)",
          "Bergen op Zoom",
          "Berkelland",
          "Bernheze",
          "Best",
          "Beuningen",
          "Beverwijk",
          "Het Bildt",
          "De Bilt",
          "Binnenmaas",
          "Bladel",
          "Blaricum",
          "Bloemendaal",
          "Bodegraven-Reeuwijk",
          "Boekel",
          "Ten Boer",
          "Borger-Odoorn",
          "Borne",
          "Borsele",
          "Boxmeer",
          "Boxtel",
          "Breda",
          "Brielle",
          "Bronckhorst",
          "Brummen",
          "Brunssum",
          "Bunnik",
          "Bunschoten",
          "Buren",
          "Capelle aan den IJssel",
          "Castricum",
          "Coevorden",
          "Cranendonck",
          "Cromstrijen",
          "Cuijk",
          "Culemborg",
          "Dalfsen",
          "Dantumadiel",
          "Delft",
          "Delfzijl",
          "Deurne",
          "Deventer",
          "Diemen",
          "Dinkelland",
          "Doesburg",
          "Doetinchem",
          "Dongen",
          "Dongeradeel",
          "Dordrecht",
          "Drechterland",
          "Drimmelen",
          "Dronten",
          "Druten",
          "Duiven",
          "Echt-Susteren",
          "Edam-Volendam",
          "Ede",
          "Eemnes",
          "Eemsmond",
          "Eersel",
          "Eijsden-Margraten",
          "Eindhoven",
          "Elburg",
          "Emmen",
          "Enkhuizen",
          "Enschede",
          "Epe",
          "Ermelo",
          "Etten-Leur",
          "Ferwerderadiel",
          "Franekeradeel",
          "De Fryske Marren",
          "Geertruidenberg",
          "Geldermalsen",
          "Geldrop-Mierlo",
          "Gemert-Bakel",
          "Gennep",
          "Giessenlanden",
          "Gilze en Rijen",
          "Goeree-Overflakkee",
          "Goes",
          "Goirle",
          "Gooise Meren",
          "Gorinchem",
          "Gouda",
          "Grave",
          "Den Haag",
          "Groningen",
          "Grootegast",
          "Gulpen-Wittem",
          "Haaksbergen",
          "Haaren",
          "Haarlem",
          "Haarlemmerliede en Spaarnwoude",
          "Haarlemmermeer",
          "Halderberge",
          "Hardenberg",
          "Harderwijk",
          "Hardinxveld-Giessendam",
          "Haren",
          "Harlingen",
          "Hattem",
          "Heemskerk",
          "Heemstede",
          "Heerde",
          "Heerenveen",
          "Heerhugowaard",
          "Heerlen",
          "Heeze-Leende",
          "Heiloo",
          "Den Helder",
          "Hellendoorn",
          "Hellevoetsluis",
          "Helmond",
          "Hendrik-Ido-Ambacht",
          "Hengelo (O.)",
          "Den Bosch",
          "Heumen",
          "Heusden",
          "Hillegom",
          "Hilvarenbeek",
          "Hilversum",
          "Hof van Twente",
          "Hollands Kroon",
          "Hoogeveen",
          "Hoogezand-Sappemeer",
          "Hoorn",
          "Horst aan de Maas",
          "Houten",
          "Huizen",
          "Hulst",
          "IJsselstein",
          "Kaag en Braassem",
          "Kampen",
          "Kapelle",
          "Katwijk",
          "Kerkrade",
          "Koggenland",
          "Kollumerland en Nieuwkruisland",
          "Korendijk",
          "Krimpen aan den IJssel",
          "Krimpenerwaard",
          "Laarbeek",
          "Landerd",
          "Landgraaf",
          "Landsmeer",
          "Langedijk",
          "Lansingerland",
          "Laren (NH.)",
          "Leek",
          "Leerdam",
          "Leeuwarden",
          "Leeuwarderadeel",
          "Leiden",
          "Leiderdorp",
          "Leidschendam-Voorburg",
          "Lelystad",
          "Leudal",
          "Leusden",
          "Lingewaal",
          "Lingewaard",
          "Lisse",
          "Littenseradiel",
          "Lochem",
          "Loon op Zand",
          "Lopik",
          "Loppersum",
          "Losser",
          "Maasdriel",
          "Maasgouw",
          "Maassluis",
          "Maastricht",
          "De Marne",
          "Marum",
          "Medemblik",
          "Meerssen",
          "Meierijstad",
          "Menameradiel",
          "Menterwolde",
          "Meppel",
          "Middelburg (Z.)",
          "Midden-Delfland",
          "Midden-Drenthe",
          "Mill en Sint Hubert",
          "Moerdijk",
          "Molenwaard",
          "Montferland",
          "Montfoort",
          "Mook en Middelaar",
          "Neder-Betuwe",
          "Nederweert",
          "Neerijnen",
          "Nieuwegein",
          "Nieuwkoop",
          "Nijkerk",
          "Nijmegen",
          "Nissewaard",
          "Noord-Beveland",
          "Noordenveld",
          "Noordoostpolder",
          "Noordwijk",
          "Noordwijkerhout",
          "Nuenen, Gerwen en Nederwetten",
          "Nunspeet",
          "Nuth",
          "Oegstgeest",
          "Oirschot",
          "Oisterwijk",
          "Oldambt",
          "Oldebroek",
          "Oldenzaal",
          "Olst-Wijhe",
          "Ommen",
          "Onderbanken",
          "Oost Gelre",
          "Oosterhout",
          "Ooststellingwerf",
          "Oostzaan",
          "Opmeer",
          "Opsterland",
          "Oss",
          "Oud-Beijerland",
          "Oude IJsselstreek",
          "Ouder-Amstel",
          "Oudewater",
          "Overbetuwe",
          "Papendrecht",
          "Peel en Maas",
          "Pekela",
          "Pijnacker-Nootdorp",
          "Purmerend",
          "Putten",
          "Raalte",
          "Reimerswaal",
          "Renkum",
          "Renswoude",
          "Reusel-De Mierden",
          "Rheden",
          "Rhenen",
          "Ridderkerk",
          "Rijnwaarden",
          "Rijssen-Holten",
          "Rijswijk (ZH.)",
          "Roerdalen",
          "Roermond",
          "De Ronde Venen",
          "Roosendaal",
          "Rotterdam",
          "Rozendaal",
          "Rucphen",
          "Schagen",
          "Scherpenzeel",
          "Schiedam",
          "Schiermonnikoog",
          "Schinnen",
          "Schouwen-Duiveland",
          "Simpelveld",
          "Sint Anthonis",
          "Sint-Michielsgestel",
          "Sittard-Geleen",
          "Sliedrecht",
          "Slochteren",
          "Sluis",
          "Smallingerland",
          "Soest",
          "Someren",
          "Son en Breugel",
          "Stadskanaal",
          "Staphorst",
          "Stede Broec",
          "Steenbergen",
          "Steenwijkerland",
          "Stein (L.)",
          "Stichtse Vecht",
          "Strijen",
          "Súdwest-Fryslân",
          "Terneuzen",
          "Terschelling",
          "Texel",
          "Teylingen",
          "Tholen",
          "Tiel",
          "Tilburg",
          "Tubbergen",
          "Twenterand",
          "Tynaarlo",
          "Tytsjerksteradiel",
          "Uden",
          "Uitgeest",
          "Uithoorn",
          "Urk",
          "Utrecht",
          "Utrechtse Heuvelrug",
          "Vaals",
          "Valkenburg aan de Geul",
          "Valkenswaard",
          "Veendam",
          "Veenendaal",
          "Veere",
          "Veldhoven",
          "Velsen",
          "Venlo",
          "Venray",
          "Vianen",
          "Vlaardingen",
          "Vlagtwedde",
          "Vlieland",
          "Vlissingen",
          "Voerendaal",
          "Voorschoten",
          "Voorst",
          "Vught",
          "Waalre",
          "Waalwijk",
          "Waddinxveen",
          "Wageningen",
          "Wassenaar",
          "Waterland",
          "Weert",
          "Weesp",
          "Werkendam",
          "West Maas en Waal",
          "Westerveld",
          "Westervoort",
          "Westland",
          "Weststellingwerf",
          "Westvoorne",
          "Wierden",
          "Wijchen",
          "Wijdemeren",
          "Wijk bij Duurstede",
          "Winsum",
          "Winterswijk",
          "Woensdrecht",
          "Woerden",
          "De Wolden",
          "Wormerland",
          "Woudenberg",
          "Woudrichem",
          "Zaanstad",
          "Zaltbommel",
          "Zandvoort",
          "Zederik",
          "Zeewolde",
          "Zeist",
          "Zevenaar",
          "Zoetermeer",
          "Zoeterwoude",
          "Zuidhorn",
          "Zuidplas",
          "Zundert",
          "Zutphen",
          "Zwartewaterland",
          "Zwijndrecht",
          "Zwolle"
         ],
         "legendgroup": "",
         "marker": {
          "color": "green",
          "line": {
           "width": 0
          },
          "size": [
           6628,
           150,
           137,
           420,
           331,
           20,
           276,
           171,
           435,
           3088,
           242,
           2047,
           3112,
           542,
           467,
           496,
           19542,
           62,
           3621,
           1231,
           1561,
           870,
           1645,
           81,
           5320,
           100,
           67,
           18,
           422,
           424,
           2191,
           2876,
           3896,
           4463,
           2169,
           2251,
           1063,
           744,
           184,
           221,
           579,
           1631,
           282,
           2216,
           264,
           2533,
           93,
           134,
           41,
           4061,
           154,
           313,
           1604,
           1716,
           1584,
           61,
           3567,
           1559,
           331,
           223,
           19,
           308,
           3,
           1542,
           3590,
           2661,
           168,
           272,
           243,
           1627,
           508,
           162,
           680,
           2734,
           1584,
           246,
           1967,
           30,
           803,
           38,
           1414,
           1602,
           31,
           1720,
           3797,
           193,
           25,
           1478,
           51,
           16837,
           89,
           1315,
           2094,
           508,
           1017,
           2470,
           3855,
           45,
           2378,
           7234,
           5130,
           212,
           1613,
           53,
           2630,
           75,
           700,
           700,
           2993,
           558,
           40,
           1562,
           4968,
           391,
           1063,
           949,
           56,
           19,
           230,
           1089,
           306,
           111,
           804,
           2220,
           955,
           77,
           279,
           216,
           279,
           2244,
           1546,
           67,
           818,
           41,
           445,
           1044,
           143,
           3036,
           1569,
           62,
           513,
           5082,
           144,
           554,
           4189,
           220,
           947,
           73,
           785,
           707,
           995,
           1546,
           18,
           2826,
           1955,
           3437,
           942,
           1431,
           621,
           10,
           3587,
           199,
           470,
           2982,
           49,
           44,
           701,
           177,
           515,
           178,
           55,
           1590,
           1118,
           32,
           355,
           559,
           1631,
           393,
           293,
           98,
           209,
           659,
           235,
           150,
           1138,
           65,
           16,
           11,
           150,
           7149,
           2877,
           2047,
           377,
           153,
           153,
           13,
           3456,
           1781,
           92,
           100,
           1809,
           141,
           641,
           32,
           261,
           3663,
           158,
           129,
           325,
           1665,
           38,
           295,
           148,
           184,
           122,
           6277,
           863,
           609,
           286,
           1830,
           82,
           670,
           100,
           1831,
           280,
           96,
           787,
           575,
           246,
           621,
           526,
           5049,
           2497,
           1901,
           194,
           550,
           8547,
           136,
           22,
           3254,
           1751,
           1673,
           3021,
           225,
           898,
           5150,
           418,
           548,
           1425,
           4462,
           214,
           26,
           2959,
           915,
           3,
           621,
           38,
           26,
           257,
           44,
           2625,
           143,
           358,
           284,
           2786,
           1407,
           951,
           1747,
           114,
           2341,
           4163,
           1381,
           43,
           263,
           2437,
           4,
           2791,
           943,
           241,
           673,
           765,
           2621,
           1278,
           1158,
           162,
           53,
           3844,
           188,
           3983,
           36,
           1447,
           426,
           397,
           2,
           996,
           697,
           585,
           1793,
           1658,
           487,
           661,
           1172,
           33,
           838,
           7254,
           105,
           485,
           323,
           1351,
           1217,
           6926,
           4782,
           76,
           1157,
           24,
           1906,
           1134,
           1223,
           1519,
           1046,
           813,
           62,
           13,
           205,
           189,
           6138,
           587,
           552,
           1895,
           51,
           57,
           1804,
           467,
           1449,
           2904,
           3028,
           384,
           284,
           1437,
           4038,
           151,
           81,
           68,
           903,
           593,
           830,
           121,
           46,
           540,
           2649,
           121,
           2432,
           73,
           1541,
           292,
           10657,
           13,
           531,
           2350,
           1703,
           1024,
           535,
           1137,
           436,
           28,
           1991,
           3682,
           69,
           2526,
           52,
           917,
           171,
           354,
           508,
           2651,
           284,
           5565,
           2216,
           101,
           47,
           15,
           57,
           169,
           1595,
           630,
           494,
           81,
           438
          ],
          "sizemode": "area",
          "sizeref": 12.21375,
          "symbol": "circle"
         },
         "mode": "markers",
         "name": "",
         "orientation": "v",
         "showlegend": false,
         "type": "scatter",
         "x": [
          "A",
          "A",
          "A",
          "A",
          "A",
          "A",
          "A",
          "A",
          "A",
          "A",
          "A",
          "A",
          "A",
          "A",
          "A",
          "A",
          "A",
          "A",
          "A",
          "A",
          "A",
          "B",
          "B",
          "B",
          "B",
          "B",
          "B",
          "B",
          "B",
          "B",
          "B",
          "B",
          "B",
          "B",
          "B",
          "B",
          "B",
          "B",
          "B",
          "B",
          "H",
          "D",
          "B",
          "B",
          "B",
          "B",
          "B",
          "B",
          "T",
          "B",
          "B",
          "B",
          "B",
          "B",
          "B",
          "B",
          "B",
          "B",
          "B",
          "B",
          "B",
          "B",
          "C",
          "C",
          "C",
          "C",
          "C",
          "C",
          "C",
          "D",
          "D",
          "D",
          "D",
          "D",
          "D",
          "D",
          "D",
          "D",
          "D",
          "D",
          "D",
          "D",
          "D",
          "D",
          "D",
          "D",
          "D",
          "E",
          "E",
          "E",
          "E",
          "E",
          "E",
          "E",
          "E",
          "E",
          "E",
          "E",
          "E",
          "E",
          "E",
          "E",
          "F",
          "F",
          "D",
          "G",
          "G",
          "G",
          "G",
          "G",
          "G",
          "G",
          "G",
          "G",
          "G",
          "G",
          "G",
          "G",
          "G",
          "D",
          "G",
          "G",
          "G",
          "H",
          "H",
          "H",
          "H",
          "H",
          "H",
          "H",
          "H",
          "H",
          "H",
          "H",
          "H",
          "H",
          "H",
          "H",
          "H",
          "H",
          "H",
          "H",
          "H",
          "D",
          "H",
          "H",
          "H",
          "H",
          "H",
          "D",
          "H",
          "H",
          "H",
          "H",
          "H",
          "H",
          "H",
          "H",
          "H",
          "H",
          "H",
          "H",
          "H",
          "H",
          "I",
          "K",
          "K",
          "K",
          "K",
          "K",
          "K",
          "K",
          "K",
          "K",
          "K",
          "L",
          "L",
          "L",
          "L",
          "L",
          "L",
          "L",
          "L",
          "L",
          "L",
          "L",
          "L",
          "L",
          "L",
          "L",
          "L",
          "L",
          "L",
          "L",
          "L",
          "L",
          "L",
          "L",
          "L",
          "L",
          "L",
          "M",
          "M",
          "M",
          "M",
          "D",
          "M",
          "M",
          "M",
          "M",
          "M",
          "M",
          "M",
          "M",
          "M",
          "M",
          "M",
          "M",
          "M",
          "M",
          "M",
          "M",
          "N",
          "N",
          "N",
          "N",
          "N",
          "N",
          "N",
          "N",
          "N",
          "N",
          "N",
          "N",
          "N",
          "N",
          "N",
          "N",
          "O",
          "O",
          "O",
          "O",
          "O",
          "O",
          "O",
          "O",
          "O",
          "O",
          "O",
          "O",
          "O",
          "O",
          "O",
          "O",
          "O",
          "O",
          "O",
          "O",
          "O",
          "P",
          "P",
          "P",
          "P",
          "P",
          "P",
          "R",
          "R",
          "R",
          "R",
          "R",
          "R",
          "R",
          "R",
          "R",
          "R",
          "R",
          "R",
          "R",
          "D",
          "R",
          "R",
          "R",
          "R",
          "S",
          "S",
          "S",
          "S",
          "S",
          "S",
          "S",
          "S",
          "S",
          "S",
          "S",
          "S",
          "S",
          "S",
          "S",
          "S",
          "S",
          "S",
          "S",
          "S",
          "S",
          "S",
          "S",
          "S",
          "S",
          "S",
          "T",
          "T",
          "T",
          "T",
          "T",
          "T",
          "T",
          "T",
          "T",
          "T",
          "T",
          "U",
          "U",
          "U",
          "U",
          "U",
          "U",
          "V",
          "V",
          "V",
          "V",
          "V",
          "V",
          "V",
          "V",
          "V",
          "V",
          "V",
          "V",
          "V",
          "V",
          "V",
          "V",
          "V",
          "V",
          "V",
          "W",
          "W",
          "W",
          "W",
          "W",
          "W",
          "W",
          "W",
          "W",
          "W",
          "W",
          "W",
          "W",
          "W",
          "W",
          "W",
          "W",
          "W",
          "W",
          "W",
          "W",
          "W",
          "W",
          "D",
          "W",
          "W",
          "W",
          "Z",
          "Z",
          "Z",
          "Z",
          "Z",
          "Z",
          "Z",
          "Z",
          "Z",
          "Z",
          "Z",
          "Z",
          "Z",
          "Z",
          "Z",
          "Z"
         ],
         "xaxis": "x",
         "y": [
          6628,
          150,
          137,
          420,
          331,
          20,
          276,
          171,
          435,
          3088,
          242,
          2047,
          3112,
          542,
          467,
          496,
          19542,
          62,
          3621,
          1231,
          1561,
          870,
          1645,
          81,
          5320,
          100,
          67,
          18,
          422,
          424,
          2191,
          2876,
          3896,
          4463,
          2169,
          2251,
          1063,
          744,
          184,
          221,
          579,
          1631,
          282,
          2216,
          264,
          2533,
          93,
          134,
          41,
          4061,
          154,
          313,
          1604,
          1716,
          1584,
          61,
          3567,
          1559,
          331,
          223,
          19,
          308,
          3,
          1542,
          3590,
          2661,
          168,
          272,
          243,
          1627,
          508,
          162,
          680,
          2734,
          1584,
          246,
          1967,
          30,
          803,
          38,
          1414,
          1602,
          31,
          1720,
          3797,
          193,
          25,
          1478,
          51,
          16837,
          89,
          1315,
          2094,
          508,
          1017,
          2470,
          3855,
          45,
          2378,
          7234,
          5130,
          212,
          1613,
          53,
          2630,
          75,
          700,
          700,
          2993,
          558,
          40,
          1562,
          4968,
          391,
          1063,
          949,
          56,
          19,
          230,
          1089,
          306,
          111,
          804,
          2220,
          955,
          77,
          279,
          216,
          279,
          2244,
          1546,
          67,
          818,
          41,
          445,
          1044,
          143,
          3036,
          1569,
          62,
          513,
          5082,
          144,
          554,
          4189,
          220,
          947,
          73,
          785,
          707,
          995,
          1546,
          18,
          2826,
          1955,
          3437,
          942,
          1431,
          621,
          10,
          3587,
          199,
          470,
          2982,
          49,
          44,
          701,
          177,
          515,
          178,
          55,
          1590,
          1118,
          32,
          355,
          559,
          1631,
          393,
          293,
          98,
          209,
          659,
          235,
          150,
          1138,
          65,
          16,
          11,
          150,
          7149,
          2877,
          2047,
          377,
          153,
          153,
          13,
          3456,
          1781,
          92,
          100,
          1809,
          141,
          641,
          32,
          261,
          3663,
          158,
          129,
          325,
          1665,
          38,
          295,
          148,
          184,
          122,
          6277,
          863,
          609,
          286,
          1830,
          82,
          670,
          100,
          1831,
          280,
          96,
          787,
          575,
          246,
          621,
          526,
          5049,
          2497,
          1901,
          194,
          550,
          8547,
          136,
          22,
          3254,
          1751,
          1673,
          3021,
          225,
          898,
          5150,
          418,
          548,
          1425,
          4462,
          214,
          26,
          2959,
          915,
          3,
          621,
          38,
          26,
          257,
          44,
          2625,
          143,
          358,
          284,
          2786,
          1407,
          951,
          1747,
          114,
          2341,
          4163,
          1381,
          43,
          263,
          2437,
          4,
          2791,
          943,
          241,
          673,
          765,
          2621,
          1278,
          1158,
          162,
          53,
          3844,
          188,
          3983,
          36,
          1447,
          426,
          397,
          2,
          996,
          697,
          585,
          1793,
          1658,
          487,
          661,
          1172,
          33,
          838,
          7254,
          105,
          485,
          323,
          1351,
          1217,
          6926,
          4782,
          76,
          1157,
          24,
          1906,
          1134,
          1223,
          1519,
          1046,
          813,
          62,
          13,
          205,
          189,
          6138,
          587,
          552,
          1895,
          51,
          57,
          1804,
          467,
          1449,
          2904,
          3028,
          384,
          284,
          1437,
          4038,
          151,
          81,
          68,
          903,
          593,
          830,
          121,
          46,
          540,
          2649,
          121,
          2432,
          73,
          1541,
          292,
          10657,
          13,
          531,
          2350,
          1703,
          1024,
          535,
          1137,
          436,
          28,
          1991,
          3682,
          69,
          2526,
          52,
          917,
          171,
          354,
          508,
          2651,
          284,
          5565,
          2216,
          101,
          47,
          15,
          57,
          169,
          1595,
          630,
          494,
          81,
          438
         ],
         "yaxis": "y"
        }
       ],
       "layout": {
        "height": 600,
        "legend": {
         "itemsizing": "constant",
         "tracegroupgap": 0
        },
        "template": {
         "data": {
          "bar": [
           {
            "error_x": {
             "color": "#2a3f5f"
            },
            "error_y": {
             "color": "#2a3f5f"
            },
            "marker": {
             "line": {
              "color": "#E5ECF6",
              "width": 0.5
             },
             "pattern": {
              "fillmode": "overlay",
              "size": 10,
              "solidity": 0.2
             }
            },
            "type": "bar"
           }
          ],
          "barpolar": [
           {
            "marker": {
             "line": {
              "color": "#E5ECF6",
              "width": 0.5
             },
             "pattern": {
              "fillmode": "overlay",
              "size": 10,
              "solidity": 0.2
             }
            },
            "type": "barpolar"
           }
          ],
          "carpet": [
           {
            "aaxis": {
             "endlinecolor": "#2a3f5f",
             "gridcolor": "white",
             "linecolor": "white",
             "minorgridcolor": "white",
             "startlinecolor": "#2a3f5f"
            },
            "baxis": {
             "endlinecolor": "#2a3f5f",
             "gridcolor": "white",
             "linecolor": "white",
             "minorgridcolor": "white",
             "startlinecolor": "#2a3f5f"
            },
            "type": "carpet"
           }
          ],
          "choropleth": [
           {
            "colorbar": {
             "outlinewidth": 0,
             "ticks": ""
            },
            "type": "choropleth"
           }
          ],
          "contour": [
           {
            "colorbar": {
             "outlinewidth": 0,
             "ticks": ""
            },
            "colorscale": [
             [
              0.0,
              "#0d0887"
             ],
             [
              0.1111111111111111,
              "#46039f"
             ],
             [
              0.2222222222222222,
              "#7201a8"
             ],
             [
              0.3333333333333333,
              "#9c179e"
             ],
             [
              0.4444444444444444,
              "#bd3786"
             ],
             [
              0.5555555555555556,
              "#d8576b"
             ],
             [
              0.6666666666666666,
              "#ed7953"
             ],
             [
              0.7777777777777778,
              "#fb9f3a"
             ],
             [
              0.8888888888888888,
              "#fdca26"
             ],
             [
              1.0,
              "#f0f921"
             ]
            ],
            "type": "contour"
           }
          ],
          "contourcarpet": [
           {
            "colorbar": {
             "outlinewidth": 0,
             "ticks": ""
            },
            "type": "contourcarpet"
           }
          ],
          "heatmap": [
           {
            "colorbar": {
             "outlinewidth": 0,
             "ticks": ""
            },
            "colorscale": [
             [
              0.0,
              "#0d0887"
             ],
             [
              0.1111111111111111,
              "#46039f"
             ],
             [
              0.2222222222222222,
              "#7201a8"
             ],
             [
              0.3333333333333333,
              "#9c179e"
             ],
             [
              0.4444444444444444,
              "#bd3786"
             ],
             [
              0.5555555555555556,
              "#d8576b"
             ],
             [
              0.6666666666666666,
              "#ed7953"
             ],
             [
              0.7777777777777778,
              "#fb9f3a"
             ],
             [
              0.8888888888888888,
              "#fdca26"
             ],
             [
              1.0,
              "#f0f921"
             ]
            ],
            "type": "heatmap"
           }
          ],
          "heatmapgl": [
           {
            "colorbar": {
             "outlinewidth": 0,
             "ticks": ""
            },
            "colorscale": [
             [
              0.0,
              "#0d0887"
             ],
             [
              0.1111111111111111,
              "#46039f"
             ],
             [
              0.2222222222222222,
              "#7201a8"
             ],
             [
              0.3333333333333333,
              "#9c179e"
             ],
             [
              0.4444444444444444,
              "#bd3786"
             ],
             [
              0.5555555555555556,
              "#d8576b"
             ],
             [
              0.6666666666666666,
              "#ed7953"
             ],
             [
              0.7777777777777778,
              "#fb9f3a"
             ],
             [
              0.8888888888888888,
              "#fdca26"
             ],
             [
              1.0,
              "#f0f921"
             ]
            ],
            "type": "heatmapgl"
           }
          ],
          "histogram": [
           {
            "marker": {
             "pattern": {
              "fillmode": "overlay",
              "size": 10,
              "solidity": 0.2
             }
            },
            "type": "histogram"
           }
          ],
          "histogram2d": [
           {
            "colorbar": {
             "outlinewidth": 0,
             "ticks": ""
            },
            "colorscale": [
             [
              0.0,
              "#0d0887"
             ],
             [
              0.1111111111111111,
              "#46039f"
             ],
             [
              0.2222222222222222,
              "#7201a8"
             ],
             [
              0.3333333333333333,
              "#9c179e"
             ],
             [
              0.4444444444444444,
              "#bd3786"
             ],
             [
              0.5555555555555556,
              "#d8576b"
             ],
             [
              0.6666666666666666,
              "#ed7953"
             ],
             [
              0.7777777777777778,
              "#fb9f3a"
             ],
             [
              0.8888888888888888,
              "#fdca26"
             ],
             [
              1.0,
              "#f0f921"
             ]
            ],
            "type": "histogram2d"
           }
          ],
          "histogram2dcontour": [
           {
            "colorbar": {
             "outlinewidth": 0,
             "ticks": ""
            },
            "colorscale": [
             [
              0.0,
              "#0d0887"
             ],
             [
              0.1111111111111111,
              "#46039f"
             ],
             [
              0.2222222222222222,
              "#7201a8"
             ],
             [
              0.3333333333333333,
              "#9c179e"
             ],
             [
              0.4444444444444444,
              "#bd3786"
             ],
             [
              0.5555555555555556,
              "#d8576b"
             ],
             [
              0.6666666666666666,
              "#ed7953"
             ],
             [
              0.7777777777777778,
              "#fb9f3a"
             ],
             [
              0.8888888888888888,
              "#fdca26"
             ],
             [
              1.0,
              "#f0f921"
             ]
            ],
            "type": "histogram2dcontour"
           }
          ],
          "mesh3d": [
           {
            "colorbar": {
             "outlinewidth": 0,
             "ticks": ""
            },
            "type": "mesh3d"
           }
          ],
          "parcoords": [
           {
            "line": {
             "colorbar": {
              "outlinewidth": 0,
              "ticks": ""
             }
            },
            "type": "parcoords"
           }
          ],
          "pie": [
           {
            "automargin": true,
            "type": "pie"
           }
          ],
          "scatter": [
           {
            "fillpattern": {
             "fillmode": "overlay",
             "size": 10,
             "solidity": 0.2
            },
            "type": "scatter"
           }
          ],
          "scatter3d": [
           {
            "line": {
             "colorbar": {
              "outlinewidth": 0,
              "ticks": ""
             }
            },
            "marker": {
             "colorbar": {
              "outlinewidth": 0,
              "ticks": ""
             }
            },
            "type": "scatter3d"
           }
          ],
          "scattercarpet": [
           {
            "marker": {
             "colorbar": {
              "outlinewidth": 0,
              "ticks": ""
             }
            },
            "type": "scattercarpet"
           }
          ],
          "scattergeo": [
           {
            "marker": {
             "colorbar": {
              "outlinewidth": 0,
              "ticks": ""
             }
            },
            "type": "scattergeo"
           }
          ],
          "scattergl": [
           {
            "marker": {
             "colorbar": {
              "outlinewidth": 0,
              "ticks": ""
             }
            },
            "type": "scattergl"
           }
          ],
          "scattermapbox": [
           {
            "marker": {
             "colorbar": {
              "outlinewidth": 0,
              "ticks": ""
             }
            },
            "type": "scattermapbox"
           }
          ],
          "scatterpolar": [
           {
            "marker": {
             "colorbar": {
              "outlinewidth": 0,
              "ticks": ""
             }
            },
            "type": "scatterpolar"
           }
          ],
          "scatterpolargl": [
           {
            "marker": {
             "colorbar": {
              "outlinewidth": 0,
              "ticks": ""
             }
            },
            "type": "scatterpolargl"
           }
          ],
          "scatterternary": [
           {
            "marker": {
             "colorbar": {
              "outlinewidth": 0,
              "ticks": ""
             }
            },
            "type": "scatterternary"
           }
          ],
          "surface": [
           {
            "colorbar": {
             "outlinewidth": 0,
             "ticks": ""
            },
            "colorscale": [
             [
              0.0,
              "#0d0887"
             ],
             [
              0.1111111111111111,
              "#46039f"
             ],
             [
              0.2222222222222222,
              "#7201a8"
             ],
             [
              0.3333333333333333,
              "#9c179e"
             ],
             [
              0.4444444444444444,
              "#bd3786"
             ],
             [
              0.5555555555555556,
              "#d8576b"
             ],
             [
              0.6666666666666666,
              "#ed7953"
             ],
             [
              0.7777777777777778,
              "#fb9f3a"
             ],
             [
              0.8888888888888888,
              "#fdca26"
             ],
             [
              1.0,
              "#f0f921"
             ]
            ],
            "type": "surface"
           }
          ],
          "table": [
           {
            "cells": {
             "fill": {
              "color": "#EBF0F8"
             },
             "line": {
              "color": "white"
             }
            },
            "header": {
             "fill": {
              "color": "#C8D4E3"
             },
             "line": {
              "color": "white"
             }
            },
            "type": "table"
           }
          ]
         },
         "layout": {
          "annotationdefaults": {
           "arrowcolor": "#2a3f5f",
           "arrowhead": 0,
           "arrowwidth": 1
          },
          "autotypenumbers": "strict",
          "coloraxis": {
           "colorbar": {
            "outlinewidth": 0,
            "ticks": ""
           }
          },
          "colorscale": {
           "diverging": [
            [
             0,
             "#8e0152"
            ],
            [
             0.1,
             "#c51b7d"
            ],
            [
             0.2,
             "#de77ae"
            ],
            [
             0.3,
             "#f1b6da"
            ],
            [
             0.4,
             "#fde0ef"
            ],
            [
             0.5,
             "#f7f7f7"
            ],
            [
             0.6,
             "#e6f5d0"
            ],
            [
             0.7,
             "#b8e186"
            ],
            [
             0.8,
             "#7fbc41"
            ],
            [
             0.9,
             "#4d9221"
            ],
            [
             1,
             "#276419"
            ]
           ],
           "sequential": [
            [
             0.0,
             "#0d0887"
            ],
            [
             0.1111111111111111,
             "#46039f"
            ],
            [
             0.2222222222222222,
             "#7201a8"
            ],
            [
             0.3333333333333333,
             "#9c179e"
            ],
            [
             0.4444444444444444,
             "#bd3786"
            ],
            [
             0.5555555555555556,
             "#d8576b"
            ],
            [
             0.6666666666666666,
             "#ed7953"
            ],
            [
             0.7777777777777778,
             "#fb9f3a"
            ],
            [
             0.8888888888888888,
             "#fdca26"
            ],
            [
             1.0,
             "#f0f921"
            ]
           ],
           "sequentialminus": [
            [
             0.0,
             "#0d0887"
            ],
            [
             0.1111111111111111,
             "#46039f"
            ],
            [
             0.2222222222222222,
             "#7201a8"
            ],
            [
             0.3333333333333333,
             "#9c179e"
            ],
            [
             0.4444444444444444,
             "#bd3786"
            ],
            [
             0.5555555555555556,
             "#d8576b"
            ],
            [
             0.6666666666666666,
             "#ed7953"
            ],
            [
             0.7777777777777778,
             "#fb9f3a"
            ],
            [
             0.8888888888888888,
             "#fdca26"
            ],
            [
             1.0,
             "#f0f921"
            ]
           ]
          },
          "colorway": [
           "#636efa",
           "#EF553B",
           "#00cc96",
           "#ab63fa",
           "#FFA15A",
           "#19d3f3",
           "#FF6692",
           "#B6E880",
           "#FF97FF",
           "#FECB52"
          ],
          "font": {
           "color": "#2a3f5f"
          },
          "geo": {
           "bgcolor": "white",
           "lakecolor": "white",
           "landcolor": "#E5ECF6",
           "showlakes": true,
           "showland": true,
           "subunitcolor": "white"
          },
          "hoverlabel": {
           "align": "left"
          },
          "hovermode": "closest",
          "mapbox": {
           "style": "light"
          },
          "paper_bgcolor": "white",
          "plot_bgcolor": "#E5ECF6",
          "polar": {
           "angularaxis": {
            "gridcolor": "white",
            "linecolor": "white",
            "ticks": ""
           },
           "bgcolor": "#E5ECF6",
           "radialaxis": {
            "gridcolor": "white",
            "linecolor": "white",
            "ticks": ""
           }
          },
          "scene": {
           "xaxis": {
            "backgroundcolor": "#E5ECF6",
            "gridcolor": "white",
            "gridwidth": 2,
            "linecolor": "white",
            "showbackground": true,
            "ticks": "",
            "zerolinecolor": "white"
           },
           "yaxis": {
            "backgroundcolor": "#E5ECF6",
            "gridcolor": "white",
            "gridwidth": 2,
            "linecolor": "white",
            "showbackground": true,
            "ticks": "",
            "zerolinecolor": "white"
           },
           "zaxis": {
            "backgroundcolor": "#E5ECF6",
            "gridcolor": "white",
            "gridwidth": 2,
            "linecolor": "white",
            "showbackground": true,
            "ticks": "",
            "zerolinecolor": "white"
           }
          },
          "shapedefaults": {
           "line": {
            "color": "#2a3f5f"
           }
          },
          "ternary": {
           "aaxis": {
            "gridcolor": "white",
            "linecolor": "white",
            "ticks": ""
           },
           "baxis": {
            "gridcolor": "white",
            "linecolor": "white",
            "ticks": ""
           },
           "bgcolor": "#E5ECF6",
           "caxis": {
            "gridcolor": "white",
            "linecolor": "white",
            "ticks": ""
           }
          },
          "title": {
           "x": 0.05
          },
          "xaxis": {
           "automargin": true,
           "gridcolor": "white",
           "linecolor": "white",
           "ticks": "",
           "title": {
            "standoff": 15
           },
           "zerolinecolor": "white",
           "zerolinewidth": 2
          },
          "yaxis": {
           "automargin": true,
           "gridcolor": "white",
           "linecolor": "white",
           "ticks": "",
           "title": {
            "standoff": 15
           },
           "zerolinecolor": "white",
           "zerolinewidth": 2
          }
         }
        },
        "title": {
         "text": "Aantal hectaren groen per gemeente"
        },
        "width": 750,
        "xaxis": {
         "anchor": "y",
         "categoryorder": "category ascending",
         "domain": [
          0.0,
          1.0
         ],
         "title": {
          "text": "Gemeente (eerste letter)"
         }
        },
        "yaxis": {
         "anchor": "x",
         "domain": [
          0.0,
          1.0
         ],
         "title": {
          "text": "Totaal bos en open natuurlijk terrein (ha)"
         }
        }
       }
      },
      "text/html": [
       "<div>                            <div id=\"c1f06f78-fc41-4987-b5c8-9a28684c339c\" class=\"plotly-graph-div\" style=\"height:600px; width:750px;\"></div>            <script type=\"text/javascript\">                require([\"plotly\"], function(Plotly) {                    window.PLOTLYENV=window.PLOTLYENV || {};                                    if (document.getElementById(\"c1f06f78-fc41-4987-b5c8-9a28684c339c\")) {                    Plotly.newPlot(                        \"c1f06f78-fc41-4987-b5c8-9a28684c339c\",                        [{\"hovertemplate\":\"Gemeente: %{hovertext}\\u003cbr\\u003eAantal: %{y}\",\"hovertext\":[\"Aa en Hunze\",\"Aalburg\",\"Aalsmeer\",\"Aalten\",\"Achtkarspelen\",\"Alblasserdam\",\"Albrandswaard\",\"Alkmaar\",\"Almelo\",\"Almere\",\"Alphen aan den Rijn\",\"Alphen-Chaam\",\"Ameland\",\"Amersfoort\",\"Amstelveen\",\"Amsterdam\",\"Apeldoorn\",\"Appingedam\",\"Arnhem\",\"Assen\",\"Asten\",\"Baarle-Nassau\",\"Baarn\",\"Barendrecht\",\"Barneveld\",\"Bedum\",\"Beek (L.)\",\"Beemster\",\"Beesel\",\"Bellingwedde\",\"Berg en Dal\",\"Bergeijk\",\"Bergen (L.)\",\"Bergen (NH.)\",\"Bergen op Zoom\",\"Berkelland\",\"Bernheze\",\"Best\",\"Beuningen\",\"Beverwijk\",\"Het Bildt\",\"De Bilt\",\"Binnenmaas\",\"Bladel\",\"Blaricum\",\"Bloemendaal\",\"Bodegraven-Reeuwijk\",\"Boekel\",\"Ten Boer\",\"Borger-Odoorn\",\"Borne\",\"Borsele\",\"Boxmeer\",\"Boxtel\",\"Breda\",\"Brielle\",\"Bronckhorst\",\"Brummen\",\"Brunssum\",\"Bunnik\",\"Bunschoten\",\"Buren\",\"Capelle aan den IJssel\",\"Castricum\",\"Coevorden\",\"Cranendonck\",\"Cromstrijen\",\"Cuijk\",\"Culemborg\",\"Dalfsen\",\"Dantumadiel\",\"Delft\",\"Delfzijl\",\"Deurne\",\"Deventer\",\"Diemen\",\"Dinkelland\",\"Doesburg\",\"Doetinchem\",\"Dongen\",\"Dongeradeel\",\"Dordrecht\",\"Drechterland\",\"Drimmelen\",\"Dronten\",\"Druten\",\"Duiven\",\"Echt-Susteren\",\"Edam-Volendam\",\"Ede\",\"Eemnes\",\"Eemsmond\",\"Eersel\",\"Eijsden-Margraten\",\"Eindhoven\",\"Elburg\",\"Emmen\",\"Enkhuizen\",\"Enschede\",\"Epe\",\"Ermelo\",\"Etten-Leur\",\"Ferwerderadiel\",\"Franekeradeel\",\"De Fryske Marren\",\"Geertruidenberg\",\"Geldermalsen\",\"Geldrop-Mierlo\",\"Gemert-Bakel\",\"Gennep\",\"Giessenlanden\",\"Gilze en Rijen\",\"Goeree-Overflakkee\",\"Goes\",\"Goirle\",\"Gooise Meren\",\"Gorinchem\",\"Gouda\",\"Grave\",\"Den Haag\",\"Groningen\",\"Grootegast\",\"Gulpen-Wittem\",\"Haaksbergen\",\"Haaren\",\"Haarlem\",\"Haarlemmerliede en Spaarnwoude\",\"Haarlemmermeer\",\"Halderberge\",\"Hardenberg\",\"Harderwijk\",\"Hardinxveld-Giessendam\",\"Haren\",\"Harlingen\",\"Hattem\",\"Heemskerk\",\"Heemstede\",\"Heerde\",\"Heerenveen\",\"Heerhugowaard\",\"Heerlen\",\"Heeze-Leende\",\"Heiloo\",\"Den Helder\",\"Hellendoorn\",\"Hellevoetsluis\",\"Helmond\",\"Hendrik-Ido-Ambacht\",\"Hengelo (O.)\",\"Den Bosch\",\"Heumen\",\"Heusden\",\"Hillegom\",\"Hilvarenbeek\",\"Hilversum\",\"Hof van Twente\",\"Hollands Kroon\",\"Hoogeveen\",\"Hoogezand-Sappemeer\",\"Hoorn\",\"Horst aan de Maas\",\"Houten\",\"Huizen\",\"Hulst\",\"IJsselstein\",\"Kaag en Braassem\",\"Kampen\",\"Kapelle\",\"Katwijk\",\"Kerkrade\",\"Koggenland\",\"Kollumerland en Nieuwkruisland\",\"Korendijk\",\"Krimpen aan den IJssel\",\"Krimpenerwaard\",\"Laarbeek\",\"Landerd\",\"Landgraaf\",\"Landsmeer\",\"Langedijk\",\"Lansingerland\",\"Laren (NH.)\",\"Leek\",\"Leerdam\",\"Leeuwarden\",\"Leeuwarderadeel\",\"Leiden\",\"Leiderdorp\",\"Leidschendam-Voorburg\",\"Lelystad\",\"Leudal\",\"Leusden\",\"Lingewaal\",\"Lingewaard\",\"Lisse\",\"Littenseradiel\",\"Lochem\",\"Loon op Zand\",\"Lopik\",\"Loppersum\",\"Losser\",\"Maasdriel\",\"Maasgouw\",\"Maassluis\",\"Maastricht\",\"De Marne\",\"Marum\",\"Medemblik\",\"Meerssen\",\"Meierijstad\",\"Menameradiel\",\"Menterwolde\",\"Meppel\",\"Middelburg (Z.)\",\"Midden-Delfland\",\"Midden-Drenthe\",\"Mill en Sint Hubert\",\"Moerdijk\",\"Molenwaard\",\"Montferland\",\"Montfoort\",\"Mook en Middelaar\",\"Neder-Betuwe\",\"Nederweert\",\"Neerijnen\",\"Nieuwegein\",\"Nieuwkoop\",\"Nijkerk\",\"Nijmegen\",\"Nissewaard\",\"Noord-Beveland\",\"Noordenveld\",\"Noordoostpolder\",\"Noordwijk\",\"Noordwijkerhout\",\"Nuenen, Gerwen en Nederwetten\",\"Nunspeet\",\"Nuth\",\"Oegstgeest\",\"Oirschot\",\"Oisterwijk\",\"Oldambt\",\"Oldebroek\",\"Oldenzaal\",\"Olst-Wijhe\",\"Ommen\",\"Onderbanken\",\"Oost Gelre\",\"Oosterhout\",\"Ooststellingwerf\",\"Oostzaan\",\"Opmeer\",\"Opsterland\",\"Oss\",\"Oud-Beijerland\",\"Oude IJsselstreek\",\"Ouder-Amstel\",\"Oudewater\",\"Overbetuwe\",\"Papendrecht\",\"Peel en Maas\",\"Pekela\",\"Pijnacker-Nootdorp\",\"Purmerend\",\"Putten\",\"Raalte\",\"Reimerswaal\",\"Renkum\",\"Renswoude\",\"Reusel-De Mierden\",\"Rheden\",\"Rhenen\",\"Ridderkerk\",\"Rijnwaarden\",\"Rijssen-Holten\",\"Rijswijk (ZH.)\",\"Roerdalen\",\"Roermond\",\"De Ronde Venen\",\"Roosendaal\",\"Rotterdam\",\"Rozendaal\",\"Rucphen\",\"Schagen\",\"Scherpenzeel\",\"Schiedam\",\"Schiermonnikoog\",\"Schinnen\",\"Schouwen-Duiveland\",\"Simpelveld\",\"Sint Anthonis\",\"Sint-Michielsgestel\",\"Sittard-Geleen\",\"Sliedrecht\",\"Slochteren\",\"Sluis\",\"Smallingerland\",\"Soest\",\"Someren\",\"Son en Breugel\",\"Stadskanaal\",\"Staphorst\",\"Stede Broec\",\"Steenbergen\",\"Steenwijkerland\",\"Stein (L.)\",\"Stichtse Vecht\",\"Strijen\",\"S\\u00fadwest-Frysl\\u00e2n\",\"Terneuzen\",\"Terschelling\",\"Texel\",\"Teylingen\",\"Tholen\",\"Tiel\",\"Tilburg\",\"Tubbergen\",\"Twenterand\",\"Tynaarlo\",\"Tytsjerksteradiel\",\"Uden\",\"Uitgeest\",\"Uithoorn\",\"Urk\",\"Utrecht\",\"Utrechtse Heuvelrug\",\"Vaals\",\"Valkenburg aan de Geul\",\"Valkenswaard\",\"Veendam\",\"Veenendaal\",\"Veere\",\"Veldhoven\",\"Velsen\",\"Venlo\",\"Venray\",\"Vianen\",\"Vlaardingen\",\"Vlagtwedde\",\"Vlieland\",\"Vlissingen\",\"Voerendaal\",\"Voorschoten\",\"Voorst\",\"Vught\",\"Waalre\",\"Waalwijk\",\"Waddinxveen\",\"Wageningen\",\"Wassenaar\",\"Waterland\",\"Weert\",\"Weesp\",\"Werkendam\",\"West Maas en Waal\",\"Westerveld\",\"Westervoort\",\"Westland\",\"Weststellingwerf\",\"Westvoorne\",\"Wierden\",\"Wijchen\",\"Wijdemeren\",\"Wijk bij Duurstede\",\"Winsum\",\"Winterswijk\",\"Woensdrecht\",\"Woerden\",\"De Wolden\",\"Wormerland\",\"Woudenberg\",\"Woudrichem\",\"Zaanstad\",\"Zaltbommel\",\"Zandvoort\",\"Zederik\",\"Zeewolde\",\"Zeist\",\"Zevenaar\",\"Zoetermeer\",\"Zoeterwoude\",\"Zuidhorn\",\"Zuidplas\",\"Zundert\",\"Zutphen\",\"Zwartewaterland\",\"Zwijndrecht\",\"Zwolle\"],\"legendgroup\":\"\",\"marker\":{\"color\":\"green\",\"size\":[6628,150,137,420,331,20,276,171,435,3088,242,2047,3112,542,467,496,19542,62,3621,1231,1561,870,1645,81,5320,100,67,18,422,424,2191,2876,3896,4463,2169,2251,1063,744,184,221,579,1631,282,2216,264,2533,93,134,41,4061,154,313,1604,1716,1584,61,3567,1559,331,223,19,308,3,1542,3590,2661,168,272,243,1627,508,162,680,2734,1584,246,1967,30,803,38,1414,1602,31,1720,3797,193,25,1478,51,16837,89,1315,2094,508,1017,2470,3855,45,2378,7234,5130,212,1613,53,2630,75,700,700,2993,558,40,1562,4968,391,1063,949,56,19,230,1089,306,111,804,2220,955,77,279,216,279,2244,1546,67,818,41,445,1044,143,3036,1569,62,513,5082,144,554,4189,220,947,73,785,707,995,1546,18,2826,1955,3437,942,1431,621,10,3587,199,470,2982,49,44,701,177,515,178,55,1590,1118,32,355,559,1631,393,293,98,209,659,235,150,1138,65,16,11,150,7149,2877,2047,377,153,153,13,3456,1781,92,100,1809,141,641,32,261,3663,158,129,325,1665,38,295,148,184,122,6277,863,609,286,1830,82,670,100,1831,280,96,787,575,246,621,526,5049,2497,1901,194,550,8547,136,22,3254,1751,1673,3021,225,898,5150,418,548,1425,4462,214,26,2959,915,3,621,38,26,257,44,2625,143,358,284,2786,1407,951,1747,114,2341,4163,1381,43,263,2437,4,2791,943,241,673,765,2621,1278,1158,162,53,3844,188,3983,36,1447,426,397,2,996,697,585,1793,1658,487,661,1172,33,838,7254,105,485,323,1351,1217,6926,4782,76,1157,24,1906,1134,1223,1519,1046,813,62,13,205,189,6138,587,552,1895,51,57,1804,467,1449,2904,3028,384,284,1437,4038,151,81,68,903,593,830,121,46,540,2649,121,2432,73,1541,292,10657,13,531,2350,1703,1024,535,1137,436,28,1991,3682,69,2526,52,917,171,354,508,2651,284,5565,2216,101,47,15,57,169,1595,630,494,81,438],\"sizemode\":\"area\",\"sizeref\":12.21375,\"symbol\":\"circle\",\"line\":{\"width\":0}},\"mode\":\"markers\",\"name\":\"\",\"orientation\":\"v\",\"showlegend\":false,\"x\":[\"A\",\"A\",\"A\",\"A\",\"A\",\"A\",\"A\",\"A\",\"A\",\"A\",\"A\",\"A\",\"A\",\"A\",\"A\",\"A\",\"A\",\"A\",\"A\",\"A\",\"A\",\"B\",\"B\",\"B\",\"B\",\"B\",\"B\",\"B\",\"B\",\"B\",\"B\",\"B\",\"B\",\"B\",\"B\",\"B\",\"B\",\"B\",\"B\",\"B\",\"H\",\"D\",\"B\",\"B\",\"B\",\"B\",\"B\",\"B\",\"T\",\"B\",\"B\",\"B\",\"B\",\"B\",\"B\",\"B\",\"B\",\"B\",\"B\",\"B\",\"B\",\"B\",\"C\",\"C\",\"C\",\"C\",\"C\",\"C\",\"C\",\"D\",\"D\",\"D\",\"D\",\"D\",\"D\",\"D\",\"D\",\"D\",\"D\",\"D\",\"D\",\"D\",\"D\",\"D\",\"D\",\"D\",\"D\",\"E\",\"E\",\"E\",\"E\",\"E\",\"E\",\"E\",\"E\",\"E\",\"E\",\"E\",\"E\",\"E\",\"E\",\"E\",\"F\",\"F\",\"D\",\"G\",\"G\",\"G\",\"G\",\"G\",\"G\",\"G\",\"G\",\"G\",\"G\",\"G\",\"G\",\"G\",\"G\",\"D\",\"G\",\"G\",\"G\",\"H\",\"H\",\"H\",\"H\",\"H\",\"H\",\"H\",\"H\",\"H\",\"H\",\"H\",\"H\",\"H\",\"H\",\"H\",\"H\",\"H\",\"H\",\"H\",\"H\",\"D\",\"H\",\"H\",\"H\",\"H\",\"H\",\"D\",\"H\",\"H\",\"H\",\"H\",\"H\",\"H\",\"H\",\"H\",\"H\",\"H\",\"H\",\"H\",\"H\",\"H\",\"I\",\"K\",\"K\",\"K\",\"K\",\"K\",\"K\",\"K\",\"K\",\"K\",\"K\",\"L\",\"L\",\"L\",\"L\",\"L\",\"L\",\"L\",\"L\",\"L\",\"L\",\"L\",\"L\",\"L\",\"L\",\"L\",\"L\",\"L\",\"L\",\"L\",\"L\",\"L\",\"L\",\"L\",\"L\",\"L\",\"L\",\"M\",\"M\",\"M\",\"M\",\"D\",\"M\",\"M\",\"M\",\"M\",\"M\",\"M\",\"M\",\"M\",\"M\",\"M\",\"M\",\"M\",\"M\",\"M\",\"M\",\"M\",\"N\",\"N\",\"N\",\"N\",\"N\",\"N\",\"N\",\"N\",\"N\",\"N\",\"N\",\"N\",\"N\",\"N\",\"N\",\"N\",\"O\",\"O\",\"O\",\"O\",\"O\",\"O\",\"O\",\"O\",\"O\",\"O\",\"O\",\"O\",\"O\",\"O\",\"O\",\"O\",\"O\",\"O\",\"O\",\"O\",\"O\",\"P\",\"P\",\"P\",\"P\",\"P\",\"P\",\"R\",\"R\",\"R\",\"R\",\"R\",\"R\",\"R\",\"R\",\"R\",\"R\",\"R\",\"R\",\"R\",\"D\",\"R\",\"R\",\"R\",\"R\",\"S\",\"S\",\"S\",\"S\",\"S\",\"S\",\"S\",\"S\",\"S\",\"S\",\"S\",\"S\",\"S\",\"S\",\"S\",\"S\",\"S\",\"S\",\"S\",\"S\",\"S\",\"S\",\"S\",\"S\",\"S\",\"S\",\"T\",\"T\",\"T\",\"T\",\"T\",\"T\",\"T\",\"T\",\"T\",\"T\",\"T\",\"U\",\"U\",\"U\",\"U\",\"U\",\"U\",\"V\",\"V\",\"V\",\"V\",\"V\",\"V\",\"V\",\"V\",\"V\",\"V\",\"V\",\"V\",\"V\",\"V\",\"V\",\"V\",\"V\",\"V\",\"V\",\"W\",\"W\",\"W\",\"W\",\"W\",\"W\",\"W\",\"W\",\"W\",\"W\",\"W\",\"W\",\"W\",\"W\",\"W\",\"W\",\"W\",\"W\",\"W\",\"W\",\"W\",\"W\",\"W\",\"D\",\"W\",\"W\",\"W\",\"Z\",\"Z\",\"Z\",\"Z\",\"Z\",\"Z\",\"Z\",\"Z\",\"Z\",\"Z\",\"Z\",\"Z\",\"Z\",\"Z\",\"Z\",\"Z\"],\"xaxis\":\"x\",\"y\":[6628,150,137,420,331,20,276,171,435,3088,242,2047,3112,542,467,496,19542,62,3621,1231,1561,870,1645,81,5320,100,67,18,422,424,2191,2876,3896,4463,2169,2251,1063,744,184,221,579,1631,282,2216,264,2533,93,134,41,4061,154,313,1604,1716,1584,61,3567,1559,331,223,19,308,3,1542,3590,2661,168,272,243,1627,508,162,680,2734,1584,246,1967,30,803,38,1414,1602,31,1720,3797,193,25,1478,51,16837,89,1315,2094,508,1017,2470,3855,45,2378,7234,5130,212,1613,53,2630,75,700,700,2993,558,40,1562,4968,391,1063,949,56,19,230,1089,306,111,804,2220,955,77,279,216,279,2244,1546,67,818,41,445,1044,143,3036,1569,62,513,5082,144,554,4189,220,947,73,785,707,995,1546,18,2826,1955,3437,942,1431,621,10,3587,199,470,2982,49,44,701,177,515,178,55,1590,1118,32,355,559,1631,393,293,98,209,659,235,150,1138,65,16,11,150,7149,2877,2047,377,153,153,13,3456,1781,92,100,1809,141,641,32,261,3663,158,129,325,1665,38,295,148,184,122,6277,863,609,286,1830,82,670,100,1831,280,96,787,575,246,621,526,5049,2497,1901,194,550,8547,136,22,3254,1751,1673,3021,225,898,5150,418,548,1425,4462,214,26,2959,915,3,621,38,26,257,44,2625,143,358,284,2786,1407,951,1747,114,2341,4163,1381,43,263,2437,4,2791,943,241,673,765,2621,1278,1158,162,53,3844,188,3983,36,1447,426,397,2,996,697,585,1793,1658,487,661,1172,33,838,7254,105,485,323,1351,1217,6926,4782,76,1157,24,1906,1134,1223,1519,1046,813,62,13,205,189,6138,587,552,1895,51,57,1804,467,1449,2904,3028,384,284,1437,4038,151,81,68,903,593,830,121,46,540,2649,121,2432,73,1541,292,10657,13,531,2350,1703,1024,535,1137,436,28,1991,3682,69,2526,52,917,171,354,508,2651,284,5565,2216,101,47,15,57,169,1595,630,494,81,438],\"yaxis\":\"y\",\"type\":\"scatter\"}],                        {\"template\":{\"data\":{\"histogram2dcontour\":[{\"type\":\"histogram2dcontour\",\"colorbar\":{\"outlinewidth\":0,\"ticks\":\"\"},\"colorscale\":[[0.0,\"#0d0887\"],[0.1111111111111111,\"#46039f\"],[0.2222222222222222,\"#7201a8\"],[0.3333333333333333,\"#9c179e\"],[0.4444444444444444,\"#bd3786\"],[0.5555555555555556,\"#d8576b\"],[0.6666666666666666,\"#ed7953\"],[0.7777777777777778,\"#fb9f3a\"],[0.8888888888888888,\"#fdca26\"],[1.0,\"#f0f921\"]]}],\"choropleth\":[{\"type\":\"choropleth\",\"colorbar\":{\"outlinewidth\":0,\"ticks\":\"\"}}],\"histogram2d\":[{\"type\":\"histogram2d\",\"colorbar\":{\"outlinewidth\":0,\"ticks\":\"\"},\"colorscale\":[[0.0,\"#0d0887\"],[0.1111111111111111,\"#46039f\"],[0.2222222222222222,\"#7201a8\"],[0.3333333333333333,\"#9c179e\"],[0.4444444444444444,\"#bd3786\"],[0.5555555555555556,\"#d8576b\"],[0.6666666666666666,\"#ed7953\"],[0.7777777777777778,\"#fb9f3a\"],[0.8888888888888888,\"#fdca26\"],[1.0,\"#f0f921\"]]}],\"heatmap\":[{\"type\":\"heatmap\",\"colorbar\":{\"outlinewidth\":0,\"ticks\":\"\"},\"colorscale\":[[0.0,\"#0d0887\"],[0.1111111111111111,\"#46039f\"],[0.2222222222222222,\"#7201a8\"],[0.3333333333333333,\"#9c179e\"],[0.4444444444444444,\"#bd3786\"],[0.5555555555555556,\"#d8576b\"],[0.6666666666666666,\"#ed7953\"],[0.7777777777777778,\"#fb9f3a\"],[0.8888888888888888,\"#fdca26\"],[1.0,\"#f0f921\"]]}],\"heatmapgl\":[{\"type\":\"heatmapgl\",\"colorbar\":{\"outlinewidth\":0,\"ticks\":\"\"},\"colorscale\":[[0.0,\"#0d0887\"],[0.1111111111111111,\"#46039f\"],[0.2222222222222222,\"#7201a8\"],[0.3333333333333333,\"#9c179e\"],[0.4444444444444444,\"#bd3786\"],[0.5555555555555556,\"#d8576b\"],[0.6666666666666666,\"#ed7953\"],[0.7777777777777778,\"#fb9f3a\"],[0.8888888888888888,\"#fdca26\"],[1.0,\"#f0f921\"]]}],\"contourcarpet\":[{\"type\":\"contourcarpet\",\"colorbar\":{\"outlinewidth\":0,\"ticks\":\"\"}}],\"contour\":[{\"type\":\"contour\",\"colorbar\":{\"outlinewidth\":0,\"ticks\":\"\"},\"colorscale\":[[0.0,\"#0d0887\"],[0.1111111111111111,\"#46039f\"],[0.2222222222222222,\"#7201a8\"],[0.3333333333333333,\"#9c179e\"],[0.4444444444444444,\"#bd3786\"],[0.5555555555555556,\"#d8576b\"],[0.6666666666666666,\"#ed7953\"],[0.7777777777777778,\"#fb9f3a\"],[0.8888888888888888,\"#fdca26\"],[1.0,\"#f0f921\"]]}],\"surface\":[{\"type\":\"surface\",\"colorbar\":{\"outlinewidth\":0,\"ticks\":\"\"},\"colorscale\":[[0.0,\"#0d0887\"],[0.1111111111111111,\"#46039f\"],[0.2222222222222222,\"#7201a8\"],[0.3333333333333333,\"#9c179e\"],[0.4444444444444444,\"#bd3786\"],[0.5555555555555556,\"#d8576b\"],[0.6666666666666666,\"#ed7953\"],[0.7777777777777778,\"#fb9f3a\"],[0.8888888888888888,\"#fdca26\"],[1.0,\"#f0f921\"]]}],\"mesh3d\":[{\"type\":\"mesh3d\",\"colorbar\":{\"outlinewidth\":0,\"ticks\":\"\"}}],\"scatter\":[{\"fillpattern\":{\"fillmode\":\"overlay\",\"size\":10,\"solidity\":0.2},\"type\":\"scatter\"}],\"parcoords\":[{\"type\":\"parcoords\",\"line\":{\"colorbar\":{\"outlinewidth\":0,\"ticks\":\"\"}}}],\"scatterpolargl\":[{\"type\":\"scatterpolargl\",\"marker\":{\"colorbar\":{\"outlinewidth\":0,\"ticks\":\"\"}}}],\"bar\":[{\"error_x\":{\"color\":\"#2a3f5f\"},\"error_y\":{\"color\":\"#2a3f5f\"},\"marker\":{\"line\":{\"color\":\"#E5ECF6\",\"width\":0.5},\"pattern\":{\"fillmode\":\"overlay\",\"size\":10,\"solidity\":0.2}},\"type\":\"bar\"}],\"scattergeo\":[{\"type\":\"scattergeo\",\"marker\":{\"colorbar\":{\"outlinewidth\":0,\"ticks\":\"\"}}}],\"scatterpolar\":[{\"type\":\"scatterpolar\",\"marker\":{\"colorbar\":{\"outlinewidth\":0,\"ticks\":\"\"}}}],\"histogram\":[{\"marker\":{\"pattern\":{\"fillmode\":\"overlay\",\"size\":10,\"solidity\":0.2}},\"type\":\"histogram\"}],\"scattergl\":[{\"type\":\"scattergl\",\"marker\":{\"colorbar\":{\"outlinewidth\":0,\"ticks\":\"\"}}}],\"scatter3d\":[{\"type\":\"scatter3d\",\"line\":{\"colorbar\":{\"outlinewidth\":0,\"ticks\":\"\"}},\"marker\":{\"colorbar\":{\"outlinewidth\":0,\"ticks\":\"\"}}}],\"scattermapbox\":[{\"type\":\"scattermapbox\",\"marker\":{\"colorbar\":{\"outlinewidth\":0,\"ticks\":\"\"}}}],\"scatterternary\":[{\"type\":\"scatterternary\",\"marker\":{\"colorbar\":{\"outlinewidth\":0,\"ticks\":\"\"}}}],\"scattercarpet\":[{\"type\":\"scattercarpet\",\"marker\":{\"colorbar\":{\"outlinewidth\":0,\"ticks\":\"\"}}}],\"carpet\":[{\"aaxis\":{\"endlinecolor\":\"#2a3f5f\",\"gridcolor\":\"white\",\"linecolor\":\"white\",\"minorgridcolor\":\"white\",\"startlinecolor\":\"#2a3f5f\"},\"baxis\":{\"endlinecolor\":\"#2a3f5f\",\"gridcolor\":\"white\",\"linecolor\":\"white\",\"minorgridcolor\":\"white\",\"startlinecolor\":\"#2a3f5f\"},\"type\":\"carpet\"}],\"table\":[{\"cells\":{\"fill\":{\"color\":\"#EBF0F8\"},\"line\":{\"color\":\"white\"}},\"header\":{\"fill\":{\"color\":\"#C8D4E3\"},\"line\":{\"color\":\"white\"}},\"type\":\"table\"}],\"barpolar\":[{\"marker\":{\"line\":{\"color\":\"#E5ECF6\",\"width\":0.5},\"pattern\":{\"fillmode\":\"overlay\",\"size\":10,\"solidity\":0.2}},\"type\":\"barpolar\"}],\"pie\":[{\"automargin\":true,\"type\":\"pie\"}]},\"layout\":{\"autotypenumbers\":\"strict\",\"colorway\":[\"#636efa\",\"#EF553B\",\"#00cc96\",\"#ab63fa\",\"#FFA15A\",\"#19d3f3\",\"#FF6692\",\"#B6E880\",\"#FF97FF\",\"#FECB52\"],\"font\":{\"color\":\"#2a3f5f\"},\"hovermode\":\"closest\",\"hoverlabel\":{\"align\":\"left\"},\"paper_bgcolor\":\"white\",\"plot_bgcolor\":\"#E5ECF6\",\"polar\":{\"bgcolor\":\"#E5ECF6\",\"angularaxis\":{\"gridcolor\":\"white\",\"linecolor\":\"white\",\"ticks\":\"\"},\"radialaxis\":{\"gridcolor\":\"white\",\"linecolor\":\"white\",\"ticks\":\"\"}},\"ternary\":{\"bgcolor\":\"#E5ECF6\",\"aaxis\":{\"gridcolor\":\"white\",\"linecolor\":\"white\",\"ticks\":\"\"},\"baxis\":{\"gridcolor\":\"white\",\"linecolor\":\"white\",\"ticks\":\"\"},\"caxis\":{\"gridcolor\":\"white\",\"linecolor\":\"white\",\"ticks\":\"\"}},\"coloraxis\":{\"colorbar\":{\"outlinewidth\":0,\"ticks\":\"\"}},\"colorscale\":{\"sequential\":[[0.0,\"#0d0887\"],[0.1111111111111111,\"#46039f\"],[0.2222222222222222,\"#7201a8\"],[0.3333333333333333,\"#9c179e\"],[0.4444444444444444,\"#bd3786\"],[0.5555555555555556,\"#d8576b\"],[0.6666666666666666,\"#ed7953\"],[0.7777777777777778,\"#fb9f3a\"],[0.8888888888888888,\"#fdca26\"],[1.0,\"#f0f921\"]],\"sequentialminus\":[[0.0,\"#0d0887\"],[0.1111111111111111,\"#46039f\"],[0.2222222222222222,\"#7201a8\"],[0.3333333333333333,\"#9c179e\"],[0.4444444444444444,\"#bd3786\"],[0.5555555555555556,\"#d8576b\"],[0.6666666666666666,\"#ed7953\"],[0.7777777777777778,\"#fb9f3a\"],[0.8888888888888888,\"#fdca26\"],[1.0,\"#f0f921\"]],\"diverging\":[[0,\"#8e0152\"],[0.1,\"#c51b7d\"],[0.2,\"#de77ae\"],[0.3,\"#f1b6da\"],[0.4,\"#fde0ef\"],[0.5,\"#f7f7f7\"],[0.6,\"#e6f5d0\"],[0.7,\"#b8e186\"],[0.8,\"#7fbc41\"],[0.9,\"#4d9221\"],[1,\"#276419\"]]},\"xaxis\":{\"gridcolor\":\"white\",\"linecolor\":\"white\",\"ticks\":\"\",\"title\":{\"standoff\":15},\"zerolinecolor\":\"white\",\"automargin\":true,\"zerolinewidth\":2},\"yaxis\":{\"gridcolor\":\"white\",\"linecolor\":\"white\",\"ticks\":\"\",\"title\":{\"standoff\":15},\"zerolinecolor\":\"white\",\"automargin\":true,\"zerolinewidth\":2},\"scene\":{\"xaxis\":{\"backgroundcolor\":\"#E5ECF6\",\"gridcolor\":\"white\",\"linecolor\":\"white\",\"showbackground\":true,\"ticks\":\"\",\"zerolinecolor\":\"white\",\"gridwidth\":2},\"yaxis\":{\"backgroundcolor\":\"#E5ECF6\",\"gridcolor\":\"white\",\"linecolor\":\"white\",\"showbackground\":true,\"ticks\":\"\",\"zerolinecolor\":\"white\",\"gridwidth\":2},\"zaxis\":{\"backgroundcolor\":\"#E5ECF6\",\"gridcolor\":\"white\",\"linecolor\":\"white\",\"showbackground\":true,\"ticks\":\"\",\"zerolinecolor\":\"white\",\"gridwidth\":2}},\"shapedefaults\":{\"line\":{\"color\":\"#2a3f5f\"}},\"annotationdefaults\":{\"arrowcolor\":\"#2a3f5f\",\"arrowhead\":0,\"arrowwidth\":1},\"geo\":{\"bgcolor\":\"white\",\"landcolor\":\"#E5ECF6\",\"subunitcolor\":\"white\",\"showland\":true,\"showlakes\":true,\"lakecolor\":\"white\"},\"title\":{\"x\":0.05},\"mapbox\":{\"style\":\"light\"}}},\"xaxis\":{\"anchor\":\"y\",\"domain\":[0.0,1.0],\"title\":{\"text\":\"Gemeente (eerste letter)\"},\"categoryorder\":\"category ascending\"},\"yaxis\":{\"anchor\":\"x\",\"domain\":[0.0,1.0],\"title\":{\"text\":\"Totaal bos en open natuurlijk terrein (ha)\"}},\"legend\":{\"tracegroupgap\":0,\"itemsizing\":\"constant\"},\"title\":{\"text\":\"Aantal hectaren groen per gemeente\"},\"height\":600,\"width\":750},                        {\"responsive\": true}                    ).then(function(){\n",
       "                            \n",
       "var gd = document.getElementById('c1f06f78-fc41-4987-b5c8-9a28684c339c');\n",
       "var x = new MutationObserver(function (mutations, observer) {{\n",
       "        var display = window.getComputedStyle(gd).display;\n",
       "        if (!display || display === 'none') {{\n",
       "            console.log([gd, 'removed!']);\n",
       "            Plotly.purge(gd);\n",
       "            observer.disconnect();\n",
       "        }}\n",
       "}});\n",
       "\n",
       "// Listen for the removal of the full notebook cells\n",
       "var notebookContainer = gd.closest('#notebook-container');\n",
       "if (notebookContainer) {{\n",
       "    x.observe(notebookContainer, {childList: true});\n",
       "}}\n",
       "\n",
       "// Listen for the clearing of the current output cell\n",
       "var outputEl = gd.closest('.output');\n",
       "if (outputEl) {{\n",
       "    x.observe(outputEl, {childList: true});\n",
       "}}\n",
       "\n",
       "                        })                };                });            </script>        </div>"
      ]
     },
     "metadata": {},
     "output_type": "display_data"
    }
   ],
   "source": [
    "df = pd.read_csv('recreatie_+_bos_schoongemaakt.csv')\n",
    "\n",
    "df['First_Letter'] = df[\"Regio's\"].str[0]\n",
    "\n",
    "fig = px.scatter(df, x='First_Letter', y='Totaal bos en open natuurlijk terrein (ha)', size='Totaal bos en open natuurlijk terrein (ha)', hover_name=\"Regio's\",\n",
    "                 title='Bubble plot van Nederlandse gemeenten',\n",
    "                 labels={'First_Letter': 'Gemeente (eerste letter)', 'Totaal bos en open natuurlijk terrein (ha)': 'Totaal bos en open natuurlijk terrein (ha)'},\n",
    "                 size_max=40,\n",
    "                 color_discrete_sequence=['green'])\n",
    "\n",
    "fig.update_traces(marker=dict(line=dict(width=0)))\n",
    "\n",
    "fig.update_traces(hovertemplate='<br>'.join([\n",
    "    'Gemeente: %{hovertext}',\n",
    "    'Aantal: %{y}'\n",
    "]))\n",
    "\n",
    "fig.update_layout(\n",
    "    title='Aantal hectaren groen per gemeente',\n",
    "    height=600,\n",
    "    width=750,\n",
    "    xaxis=dict(categoryorder='category ascending')\n",
    ")\n",
    "\n",
    "fig.show()"
   ]
  }
 ],
 "metadata": {
  "kernelspec": {
   "display_name": "Python 3",
   "language": "python",
   "name": "python3"
  },
  "language_info": {
   "codemirror_mode": {
    "name": "ipython",
    "version": 3
   },
   "file_extension": ".py",
   "mimetype": "text/x-python",
   "name": "python",
   "nbconvert_exporter": "python",
   "pygments_lexer": "ipython3",
   "version": "3.10.14"
  }
 },
 "nbformat": 4,
 "nbformat_minor": 2
}