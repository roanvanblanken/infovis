{
 "cells": [
  {
   "cell_type": "code",
   "execution_count": 33,
   "metadata": {},
   "outputs": [],
   "source": [
    "import pandas as pd\n",
    "import plotly.graph_objects as go"
   ]
  },
  {
   "cell_type": "code",
   "execution_count": 34,
   "metadata": {},
   "outputs": [
    {
     "data": {
      "application/vnd.plotly.v1+json": {
       "config": {
        "plotlyServerURL": "https://plot.ly"
       },
       "data": [
        {
         "hoverinfo": "text",
         "line": {
          "color": "#359d73",
          "width": 1
         },
         "mode": "lines+markers",
         "name": "Groningen",
         "opacity": 0.5,
         "text": [
          "Provincie: Groningen<br>Jaar: 2009<br>Tevredenheid: 85.5%",
          "Provincie: Groningen<br>Jaar: 2012<br>Tevredenheid: 85.8%",
          "Provincie: Groningen<br>Jaar: 2015<br>Tevredenheid: 79.9%",
          "Provincie: Groningen<br>Jaar: 2018<br>Tevredenheid: 83.9%",
          "Provincie: Groningen<br>Jaar: 2021<br>Tevredenheid: 82.7%"
         ],
         "type": "scatter",
         "x": [
          "2009",
          "2012",
          "2015",
          "2018",
          "2021"
         ],
         "y": [
          85.5,
          85.8,
          79.9,
          83.9,
          82.7
         ]
        },
        {
         "hoverinfo": "text",
         "line": {
          "color": "#27958f",
          "width": 1
         },
         "mode": "lines+markers",
         "name": "Friesland",
         "opacity": 0.5,
         "text": [
          "Provincie: Friesland<br>Jaar: 2009<br>Tevredenheid: 86.6%",
          "Provincie: Friesland<br>Jaar: 2012<br>Tevredenheid: 87.6%",
          "Provincie: Friesland<br>Jaar: 2015<br>Tevredenheid: 85.8%",
          "Provincie: Friesland<br>Jaar: 2018<br>Tevredenheid: 85.8%",
          "Provincie: Friesland<br>Jaar: 2021<br>Tevredenheid: 87.3%"
         ],
         "type": "scatter",
         "x": [
          "2009",
          "2012",
          "2015",
          "2018",
          "2021"
         ],
         "y": [
          86.6,
          87.6,
          85.8,
          85.8,
          87.3
         ]
        },
        {
         "hoverinfo": "text",
         "line": {
          "color": "#8c5792",
          "width": 1
         },
         "mode": "lines+markers",
         "name": "Drenthe",
         "opacity": 0.5,
         "text": [
          "Provincie: Drenthe<br>Jaar: 2009<br>Tevredenheid: 87.8%",
          "Provincie: Drenthe<br>Jaar: 2012<br>Tevredenheid: 88.4%",
          "Provincie: Drenthe<br>Jaar: 2015<br>Tevredenheid: 84.9%",
          "Provincie: Drenthe<br>Jaar: 2018<br>Tevredenheid: 87.1%",
          "Provincie: Drenthe<br>Jaar: 2021<br>Tevredenheid: 86.9%"
         ],
         "type": "scatter",
         "x": [
          "2009",
          "2012",
          "2015",
          "2018",
          "2021"
         ],
         "y": [
          87.8,
          88.4,
          84.9,
          87.1,
          86.9
         ]
        },
        {
         "hoverinfo": "text",
         "line": {
          "color": "#1887ab",
          "width": 1
         },
         "mode": "lines+markers",
         "name": "Overijssel",
         "opacity": 0.5,
         "text": [
          "Provincie: Overijssel<br>Jaar: 2009<br>Tevredenheid: 86.1%",
          "Provincie: Overijssel<br>Jaar: 2012<br>Tevredenheid: 86.7%",
          "Provincie: Overijssel<br>Jaar: 2015<br>Tevredenheid: 83.8%",
          "Provincie: Overijssel<br>Jaar: 2018<br>Tevredenheid: 84.7%",
          "Provincie: Overijssel<br>Jaar: 2021<br>Tevredenheid: 87.3%"
         ],
         "type": "scatter",
         "x": [
          "2009",
          "2012",
          "2015",
          "2018",
          "2021"
         ],
         "y": [
          86.1,
          86.7,
          83.8,
          84.7,
          87.3
         ]
        },
        {
         "hoverinfo": "text",
         "line": {
          "color": "#a9629f",
          "width": 1
         },
         "mode": "lines+markers",
         "name": "Flevoland",
         "opacity": 0.5,
         "text": [
          "Provincie: Flevoland<br>Jaar: 2009<br>Tevredenheid: 83.1%",
          "Provincie: Flevoland<br>Jaar: 2012<br>Tevredenheid: 82.8%",
          "Provincie: Flevoland<br>Jaar: 2015<br>Tevredenheid: 78.4%",
          "Provincie: Flevoland<br>Jaar: 2018<br>Tevredenheid: 81.2%",
          "Provincie: Flevoland<br>Jaar: 2021<br>Tevredenheid: 83.0%"
         ],
         "type": "scatter",
         "x": [
          "2009",
          "2012",
          "2015",
          "2018",
          "2021"
         ],
         "y": [
          83.1,
          82.8,
          78.4,
          81.2,
          83
         ]
        },
        {
         "hoverinfo": "text",
         "line": {
          "color": "#4f73a1",
          "width": 1
         },
         "mode": "lines+markers",
         "name": "Gelderland",
         "opacity": 0.5,
         "text": [
          "Provincie: Gelderland<br>Jaar: 2009<br>Tevredenheid: 85.1%",
          "Provincie: Gelderland<br>Jaar: 2012<br>Tevredenheid: 86.5%",
          "Provincie: Gelderland<br>Jaar: 2015<br>Tevredenheid: 83.3%",
          "Provincie: Gelderland<br>Jaar: 2018<br>Tevredenheid: 85.2%",
          "Provincie: Gelderland<br>Jaar: 2021<br>Tevredenheid: 85.6%"
         ],
         "type": "scatter",
         "x": [
          "2009",
          "2012",
          "2015",
          "2018",
          "2021"
         ],
         "y": [
          85.1,
          86.5,
          83.3,
          85.2,
          85.6
         ]
        },
        {
         "hoverinfo": "text",
         "line": {
          "color": "#e46828",
          "width": 1
         },
         "mode": "lines+markers",
         "name": "Utrecht",
         "opacity": 0.5,
         "text": [
          "Provincie: Utrecht<br>Jaar: 2009<br>Tevredenheid: 82.9%",
          "Provincie: Utrecht<br>Jaar: 2012<br>Tevredenheid: 83.8%",
          "Provincie: Utrecht<br>Jaar: 2015<br>Tevredenheid: 81.4%",
          "Provincie: Utrecht<br>Jaar: 2018<br>Tevredenheid: 83.3%",
          "Provincie: Utrecht<br>Jaar: 2021<br>Tevredenheid: 85.5%"
         ],
         "type": "scatter",
         "x": [
          "2009",
          "2012",
          "2015",
          "2018",
          "2021"
         ],
         "y": [
          82.9,
          83.8,
          81.4,
          83.3,
          85.5
         ]
        },
        {
         "hoverinfo": "text",
         "line": {
          "color": "#ac1917",
          "width": 1
         },
         "mode": "lines+markers",
         "name": "Noord-Holland",
         "opacity": 0.5,
         "text": [
          "Provincie: Noord-Holland<br>Jaar: 2009<br>Tevredenheid: 82.1%",
          "Provincie: Noord-Holland<br>Jaar: 2012<br>Tevredenheid: 83.1%",
          "Provincie: Noord-Holland<br>Jaar: 2015<br>Tevredenheid: 82.3%",
          "Provincie: Noord-Holland<br>Jaar: 2018<br>Tevredenheid: 83.2%",
          "Provincie: Noord-Holland<br>Jaar: 2021<br>Tevredenheid: 82.5%"
         ],
         "type": "scatter",
         "x": [
          "2009",
          "2012",
          "2015",
          "2018",
          "2021"
         ],
         "y": [
          82.1,
          83.1,
          82.3,
          83.2,
          82.5
         ]
        },
        {
         "hoverinfo": "text",
         "line": {
          "color": "#93ae55",
          "width": 1
         },
         "mode": "lines+markers",
         "name": "Zuid-Holland",
         "opacity": 0.5,
         "text": [
          "Provincie: Zuid-Holland<br>Jaar: 2009<br>Tevredenheid: 79.9%",
          "Provincie: Zuid-Holland<br>Jaar: 2012<br>Tevredenheid: 80.6%",
          "Provincie: Zuid-Holland<br>Jaar: 2015<br>Tevredenheid: 78.5%",
          "Provincie: Zuid-Holland<br>Jaar: 2018<br>Tevredenheid: 80.0%",
          "Provincie: Zuid-Holland<br>Jaar: 2021<br>Tevredenheid: 80.1%"
         ],
         "type": "scatter",
         "x": [
          "2009",
          "2012",
          "2015",
          "2018",
          "2021"
         ],
         "y": [
          79.9,
          80.6,
          78.5,
          80,
          80.1
         ]
        },
        {
         "hoverinfo": "text",
         "line": {
          "color": "#f0be39",
          "width": 1
         },
         "mode": "lines+markers",
         "name": "Zeeland",
         "opacity": 0.5,
         "text": [
          "Provincie: Zeeland<br>Jaar: 2009<br>Tevredenheid: 86.7%",
          "Provincie: Zeeland<br>Jaar: 2012<br>Tevredenheid: 87.1%",
          "Provincie: Zeeland<br>Jaar: 2015<br>Tevredenheid: 86.0%",
          "Provincie: Zeeland<br>Jaar: 2018<br>Tevredenheid: 84.9%",
          "Provincie: Zeeland<br>Jaar: 2021<br>Tevredenheid: 87.4%"
         ],
         "type": "scatter",
         "x": [
          "2009",
          "2012",
          "2015",
          "2018",
          "2021"
         ],
         "y": [
          86.7,
          87.1,
          86,
          84.9,
          87.4
         ]
        },
        {
         "hoverinfo": "text",
         "line": {
          "color": "#c867a5",
          "width": 1
         },
         "mode": "lines+markers",
         "name": "Noord-Brabant",
         "opacity": 0.5,
         "text": [
          "Provincie: Noord-Brabant<br>Jaar: 2009<br>Tevredenheid: 85.1%",
          "Provincie: Noord-Brabant<br>Jaar: 2012<br>Tevredenheid: 85.8%",
          "Provincie: Noord-Brabant<br>Jaar: 2015<br>Tevredenheid: 84.4%",
          "Provincie: Noord-Brabant<br>Jaar: 2018<br>Tevredenheid: 84.8%",
          "Provincie: Noord-Brabant<br>Jaar: 2021<br>Tevredenheid: 85.2%"
         ],
         "type": "scatter",
         "x": [
          "2009",
          "2012",
          "2015",
          "2018",
          "2021"
         ],
         "y": [
          85.1,
          85.8,
          84.4,
          84.8,
          85.2
         ]
        },
        {
         "hoverinfo": "text",
         "line": {
          "color": "#d34467",
          "width": 1
         },
         "mode": "lines+markers",
         "name": "Limburg",
         "opacity": 0.5,
         "text": [
          "Provincie: Limburg<br>Jaar: 2009<br>Tevredenheid: 82.6%",
          "Provincie: Limburg<br>Jaar: 2012<br>Tevredenheid: 82.1%",
          "Provincie: Limburg<br>Jaar: 2015<br>Tevredenheid: 81.4%",
          "Provincie: Limburg<br>Jaar: 2018<br>Tevredenheid: 83.9%",
          "Provincie: Limburg<br>Jaar: 2021<br>Tevredenheid: 83.7%"
         ],
         "type": "scatter",
         "x": [
          "2009",
          "2012",
          "2015",
          "2018",
          "2021"
         ],
         "y": [
          82.6,
          82.1,
          81.4,
          83.9,
          83.7
         ]
        },
        {
         "hoverinfo": "text",
         "line": {
          "color": "#666666",
          "width": 1.5
         },
         "mode": "lines+markers",
         "name": "Gemiddelde woontevredenheid NL",
         "opacity": 1,
         "text": [
          "Jaar: 2009<br>Gemiddelde woontevredenheid NL: 84.5%",
          "Jaar: 2012<br>Gemiddelde woontevredenheid NL: 85.0%",
          "Jaar: 2015<br>Gemiddelde woontevredenheid NL: 82.5%",
          "Jaar: 2018<br>Gemiddelde woontevredenheid NL: 84.0%",
          "Jaar: 2021<br>Gemiddelde woontevredenheid NL: 84.8%"
         ],
         "type": "scatter",
         "x": [
          "2009",
          "2012",
          "2015",
          "2018",
          "2021"
         ],
         "y": [
          84.45833333333334,
          85.025,
          82.50833333333333,
          83.99999999999999,
          84.76666666666667
         ]
        },
        {
         "hoverinfo": "text",
         "line": {
          "color": "#FF7F50",
          "width": 2
         },
         "mode": "lines+markers",
         "name": "Gemiddelde woontevredenheid Randstad",
         "opacity": 1,
         "text": [
          "Jaar: 2009<br>Gemiddelde woontevredenheid Randstad: 83.0%",
          "Jaar: 2012<br>Gemiddelde woontevredenheid Randstad: 83.3%",
          "Jaar: 2015<br>Gemiddelde woontevredenheid Randstad: 79.9%",
          "Jaar: 2018<br>Gemiddelde woontevredenheid Randstad: 82.2%",
          "Jaar: 2021<br>Gemiddelde woontevredenheid Randstad: 84.2%"
         ],
         "type": "scatter",
         "x": [
          "2009",
          "2012",
          "2015",
          "2018",
          "2021"
         ],
         "y": [
          83,
          83.3,
          79.9,
          82.25,
          84.25
         ]
        },
        {
         "hoverinfo": "text",
         "line": {
          "color": "#1E90FF",
          "width": 2
         },
         "mode": "lines+markers",
         "name": "Gemiddelde woontevredenheid buiten Randstad",
         "opacity": 1,
         "text": [
          "Jaar: 2009<br>Gemiddelde woontevredenheid buiten Randstad: 84.8%",
          "Jaar: 2012<br>Gemiddelde woontevredenheid buiten Randstad: 85.4%",
          "Jaar: 2015<br>Gemiddelde woontevredenheid buiten Randstad: 83.0%",
          "Jaar: 2018<br>Gemiddelde woontevredenheid buiten Randstad: 84.3%",
          "Jaar: 2021<br>Gemiddelde woontevredenheid buiten Randstad: 84.9%"
         ],
         "type": "scatter",
         "x": [
          "2009",
          "2012",
          "2015",
          "2018",
          "2021"
         ],
         "y": [
          84.75,
          85.36999999999999,
          83.03,
          84.35,
          84.87
         ]
        }
       ],
       "layout": {
        "font": {
         "color": "black",
         "family": "Arial, sans-serif",
         "size": 12
        },
        "height": 500,
        "legend": {
         "title": {
          "text": "Provincie"
         }
        },
        "template": {
         "data": {
          "bar": [
           {
            "error_x": {
             "color": "#2a3f5f"
            },
            "error_y": {
             "color": "#2a3f5f"
            },
            "marker": {
             "line": {
              "color": "white",
              "width": 0.5
             },
             "pattern": {
              "fillmode": "overlay",
              "size": 10,
              "solidity": 0.2
             }
            },
            "type": "bar"
           }
          ],
          "barpolar": [
           {
            "marker": {
             "line": {
              "color": "white",
              "width": 0.5
             },
             "pattern": {
              "fillmode": "overlay",
              "size": 10,
              "solidity": 0.2
             }
            },
            "type": "barpolar"
           }
          ],
          "carpet": [
           {
            "aaxis": {
             "endlinecolor": "#2a3f5f",
             "gridcolor": "#C8D4E3",
             "linecolor": "#C8D4E3",
             "minorgridcolor": "#C8D4E3",
             "startlinecolor": "#2a3f5f"
            },
            "baxis": {
             "endlinecolor": "#2a3f5f",
             "gridcolor": "#C8D4E3",
             "linecolor": "#C8D4E3",
             "minorgridcolor": "#C8D4E3",
             "startlinecolor": "#2a3f5f"
            },
            "type": "carpet"
           }
          ],
          "choropleth": [
           {
            "colorbar": {
             "outlinewidth": 0,
             "ticks": ""
            },
            "type": "choropleth"
           }
          ],
          "contour": [
           {
            "colorbar": {
             "outlinewidth": 0,
             "ticks": ""
            },
            "colorscale": [
             [
              0,
              "#0d0887"
             ],
             [
              0.1111111111111111,
              "#46039f"
             ],
             [
              0.2222222222222222,
              "#7201a8"
             ],
             [
              0.3333333333333333,
              "#9c179e"
             ],
             [
              0.4444444444444444,
              "#bd3786"
             ],
             [
              0.5555555555555556,
              "#d8576b"
             ],
             [
              0.6666666666666666,
              "#ed7953"
             ],
             [
              0.7777777777777778,
              "#fb9f3a"
             ],
             [
              0.8888888888888888,
              "#fdca26"
             ],
             [
              1,
              "#f0f921"
             ]
            ],
            "type": "contour"
           }
          ],
          "contourcarpet": [
           {
            "colorbar": {
             "outlinewidth": 0,
             "ticks": ""
            },
            "type": "contourcarpet"
           }
          ],
          "heatmap": [
           {
            "colorbar": {
             "outlinewidth": 0,
             "ticks": ""
            },
            "colorscale": [
             [
              0,
              "#0d0887"
             ],
             [
              0.1111111111111111,
              "#46039f"
             ],
             [
              0.2222222222222222,
              "#7201a8"
             ],
             [
              0.3333333333333333,
              "#9c179e"
             ],
             [
              0.4444444444444444,
              "#bd3786"
             ],
             [
              0.5555555555555556,
              "#d8576b"
             ],
             [
              0.6666666666666666,
              "#ed7953"
             ],
             [
              0.7777777777777778,
              "#fb9f3a"
             ],
             [
              0.8888888888888888,
              "#fdca26"
             ],
             [
              1,
              "#f0f921"
             ]
            ],
            "type": "heatmap"
           }
          ],
          "heatmapgl": [
           {
            "colorbar": {
             "outlinewidth": 0,
             "ticks": ""
            },
            "colorscale": [
             [
              0,
              "#0d0887"
             ],
             [
              0.1111111111111111,
              "#46039f"
             ],
             [
              0.2222222222222222,
              "#7201a8"
             ],
             [
              0.3333333333333333,
              "#9c179e"
             ],
             [
              0.4444444444444444,
              "#bd3786"
             ],
             [
              0.5555555555555556,
              "#d8576b"
             ],
             [
              0.6666666666666666,
              "#ed7953"
             ],
             [
              0.7777777777777778,
              "#fb9f3a"
             ],
             [
              0.8888888888888888,
              "#fdca26"
             ],
             [
              1,
              "#f0f921"
             ]
            ],
            "type": "heatmapgl"
           }
          ],
          "histogram": [
           {
            "marker": {
             "pattern": {
              "fillmode": "overlay",
              "size": 10,
              "solidity": 0.2
             }
            },
            "type": "histogram"
           }
          ],
          "histogram2d": [
           {
            "colorbar": {
             "outlinewidth": 0,
             "ticks": ""
            },
            "colorscale": [
             [
              0,
              "#0d0887"
             ],
             [
              0.1111111111111111,
              "#46039f"
             ],
             [
              0.2222222222222222,
              "#7201a8"
             ],
             [
              0.3333333333333333,
              "#9c179e"
             ],
             [
              0.4444444444444444,
              "#bd3786"
             ],
             [
              0.5555555555555556,
              "#d8576b"
             ],
             [
              0.6666666666666666,
              "#ed7953"
             ],
             [
              0.7777777777777778,
              "#fb9f3a"
             ],
             [
              0.8888888888888888,
              "#fdca26"
             ],
             [
              1,
              "#f0f921"
             ]
            ],
            "type": "histogram2d"
           }
          ],
          "histogram2dcontour": [
           {
            "colorbar": {
             "outlinewidth": 0,
             "ticks": ""
            },
            "colorscale": [
             [
              0,
              "#0d0887"
             ],
             [
              0.1111111111111111,
              "#46039f"
             ],
             [
              0.2222222222222222,
              "#7201a8"
             ],
             [
              0.3333333333333333,
              "#9c179e"
             ],
             [
              0.4444444444444444,
              "#bd3786"
             ],
             [
              0.5555555555555556,
              "#d8576b"
             ],
             [
              0.6666666666666666,
              "#ed7953"
             ],
             [
              0.7777777777777778,
              "#fb9f3a"
             ],
             [
              0.8888888888888888,
              "#fdca26"
             ],
             [
              1,
              "#f0f921"
             ]
            ],
            "type": "histogram2dcontour"
           }
          ],
          "mesh3d": [
           {
            "colorbar": {
             "outlinewidth": 0,
             "ticks": ""
            },
            "type": "mesh3d"
           }
          ],
          "parcoords": [
           {
            "line": {
             "colorbar": {
              "outlinewidth": 0,
              "ticks": ""
             }
            },
            "type": "parcoords"
           }
          ],
          "pie": [
           {
            "automargin": true,
            "type": "pie"
           }
          ],
          "scatter": [
           {
            "fillpattern": {
             "fillmode": "overlay",
             "size": 10,
             "solidity": 0.2
            },
            "type": "scatter"
           }
          ],
          "scatter3d": [
           {
            "line": {
             "colorbar": {
              "outlinewidth": 0,
              "ticks": ""
             }
            },
            "marker": {
             "colorbar": {
              "outlinewidth": 0,
              "ticks": ""
             }
            },
            "type": "scatter3d"
           }
          ],
          "scattercarpet": [
           {
            "marker": {
             "colorbar": {
              "outlinewidth": 0,
              "ticks": ""
             }
            },
            "type": "scattercarpet"
           }
          ],
          "scattergeo": [
           {
            "marker": {
             "colorbar": {
              "outlinewidth": 0,
              "ticks": ""
             }
            },
            "type": "scattergeo"
           }
          ],
          "scattergl": [
           {
            "marker": {
             "colorbar": {
              "outlinewidth": 0,
              "ticks": ""
             }
            },
            "type": "scattergl"
           }
          ],
          "scattermapbox": [
           {
            "marker": {
             "colorbar": {
              "outlinewidth": 0,
              "ticks": ""
             }
            },
            "type": "scattermapbox"
           }
          ],
          "scatterpolar": [
           {
            "marker": {
             "colorbar": {
              "outlinewidth": 0,
              "ticks": ""
             }
            },
            "type": "scatterpolar"
           }
          ],
          "scatterpolargl": [
           {
            "marker": {
             "colorbar": {
              "outlinewidth": 0,
              "ticks": ""
             }
            },
            "type": "scatterpolargl"
           }
          ],
          "scatterternary": [
           {
            "marker": {
             "colorbar": {
              "outlinewidth": 0,
              "ticks": ""
             }
            },
            "type": "scatterternary"
           }
          ],
          "surface": [
           {
            "colorbar": {
             "outlinewidth": 0,
             "ticks": ""
            },
            "colorscale": [
             [
              0,
              "#0d0887"
             ],
             [
              0.1111111111111111,
              "#46039f"
             ],
             [
              0.2222222222222222,
              "#7201a8"
             ],
             [
              0.3333333333333333,
              "#9c179e"
             ],
             [
              0.4444444444444444,
              "#bd3786"
             ],
             [
              0.5555555555555556,
              "#d8576b"
             ],
             [
              0.6666666666666666,
              "#ed7953"
             ],
             [
              0.7777777777777778,
              "#fb9f3a"
             ],
             [
              0.8888888888888888,
              "#fdca26"
             ],
             [
              1,
              "#f0f921"
             ]
            ],
            "type": "surface"
           }
          ],
          "table": [
           {
            "cells": {
             "fill": {
              "color": "#EBF0F8"
             },
             "line": {
              "color": "white"
             }
            },
            "header": {
             "fill": {
              "color": "#C8D4E3"
             },
             "line": {
              "color": "white"
             }
            },
            "type": "table"
           }
          ]
         },
         "layout": {
          "annotationdefaults": {
           "arrowcolor": "#2a3f5f",
           "arrowhead": 0,
           "arrowwidth": 1
          },
          "autotypenumbers": "strict",
          "coloraxis": {
           "colorbar": {
            "outlinewidth": 0,
            "ticks": ""
           }
          },
          "colorscale": {
           "diverging": [
            [
             0,
             "#8e0152"
            ],
            [
             0.1,
             "#c51b7d"
            ],
            [
             0.2,
             "#de77ae"
            ],
            [
             0.3,
             "#f1b6da"
            ],
            [
             0.4,
             "#fde0ef"
            ],
            [
             0.5,
             "#f7f7f7"
            ],
            [
             0.6,
             "#e6f5d0"
            ],
            [
             0.7,
             "#b8e186"
            ],
            [
             0.8,
             "#7fbc41"
            ],
            [
             0.9,
             "#4d9221"
            ],
            [
             1,
             "#276419"
            ]
           ],
           "sequential": [
            [
             0,
             "#0d0887"
            ],
            [
             0.1111111111111111,
             "#46039f"
            ],
            [
             0.2222222222222222,
             "#7201a8"
            ],
            [
             0.3333333333333333,
             "#9c179e"
            ],
            [
             0.4444444444444444,
             "#bd3786"
            ],
            [
             0.5555555555555556,
             "#d8576b"
            ],
            [
             0.6666666666666666,
             "#ed7953"
            ],
            [
             0.7777777777777778,
             "#fb9f3a"
            ],
            [
             0.8888888888888888,
             "#fdca26"
            ],
            [
             1,
             "#f0f921"
            ]
           ],
           "sequentialminus": [
            [
             0,
             "#0d0887"
            ],
            [
             0.1111111111111111,
             "#46039f"
            ],
            [
             0.2222222222222222,
             "#7201a8"
            ],
            [
             0.3333333333333333,
             "#9c179e"
            ],
            [
             0.4444444444444444,
             "#bd3786"
            ],
            [
             0.5555555555555556,
             "#d8576b"
            ],
            [
             0.6666666666666666,
             "#ed7953"
            ],
            [
             0.7777777777777778,
             "#fb9f3a"
            ],
            [
             0.8888888888888888,
             "#fdca26"
            ],
            [
             1,
             "#f0f921"
            ]
           ]
          },
          "colorway": [
           "#636efa",
           "#EF553B",
           "#00cc96",
           "#ab63fa",
           "#FFA15A",
           "#19d3f3",
           "#FF6692",
           "#B6E880",
           "#FF97FF",
           "#FECB52"
          ],
          "font": {
           "color": "#2a3f5f"
          },
          "geo": {
           "bgcolor": "white",
           "lakecolor": "white",
           "landcolor": "white",
           "showlakes": true,
           "showland": true,
           "subunitcolor": "#C8D4E3"
          },
          "hoverlabel": {
           "align": "left"
          },
          "hovermode": "closest",
          "mapbox": {
           "style": "light"
          },
          "paper_bgcolor": "white",
          "plot_bgcolor": "white",
          "polar": {
           "angularaxis": {
            "gridcolor": "#EBF0F8",
            "linecolor": "#EBF0F8",
            "ticks": ""
           },
           "bgcolor": "white",
           "radialaxis": {
            "gridcolor": "#EBF0F8",
            "linecolor": "#EBF0F8",
            "ticks": ""
           }
          },
          "scene": {
           "xaxis": {
            "backgroundcolor": "white",
            "gridcolor": "#DFE8F3",
            "gridwidth": 2,
            "linecolor": "#EBF0F8",
            "showbackground": true,
            "ticks": "",
            "zerolinecolor": "#EBF0F8"
           },
           "yaxis": {
            "backgroundcolor": "white",
            "gridcolor": "#DFE8F3",
            "gridwidth": 2,
            "linecolor": "#EBF0F8",
            "showbackground": true,
            "ticks": "",
            "zerolinecolor": "#EBF0F8"
           },
           "zaxis": {
            "backgroundcolor": "white",
            "gridcolor": "#DFE8F3",
            "gridwidth": 2,
            "linecolor": "#EBF0F8",
            "showbackground": true,
            "ticks": "",
            "zerolinecolor": "#EBF0F8"
           }
          },
          "shapedefaults": {
           "line": {
            "color": "#2a3f5f"
           }
          },
          "ternary": {
           "aaxis": {
            "gridcolor": "#DFE8F3",
            "linecolor": "#A2B1C6",
            "ticks": ""
           },
           "baxis": {
            "gridcolor": "#DFE8F3",
            "linecolor": "#A2B1C6",
            "ticks": ""
           },
           "bgcolor": "white",
           "caxis": {
            "gridcolor": "#DFE8F3",
            "linecolor": "#A2B1C6",
            "ticks": ""
           }
          },
          "title": {
           "x": 0.05
          },
          "xaxis": {
           "automargin": true,
           "gridcolor": "#EBF0F8",
           "linecolor": "#EBF0F8",
           "ticks": "",
           "title": {
            "standoff": 15
           },
           "zerolinecolor": "#EBF0F8",
           "zerolinewidth": 2
          },
          "yaxis": {
           "automargin": true,
           "gridcolor": "#EBF0F8",
           "linecolor": "#EBF0F8",
           "ticks": "",
           "title": {
            "standoff": 15
           },
           "zerolinecolor": "#EBF0F8",
           "zerolinewidth": 2
          }
         }
        },
        "title": {
         "font": {
          "color": "black",
          "family": "Arial, sans-serif",
          "size": 20
         },
         "text": "Tevredenheid met huidige woonomgeving per provincie",
         "x": 0.5,
         "xanchor": "center",
         "yanchor": "top"
        },
        "width": 750,
        "xaxis": {
         "title": {
          "text": "Jaar"
         }
        },
        "yaxis": {
         "title": {
          "text": "Tevredenheid (%)"
         }
        }
       }
      }
     },
     "metadata": {},
     "output_type": "display_data"
    }
   ],
   "source": [
    "data = pd.read_csv('woontevredenheid_per_3_jaar.csv')\n",
    "\n",
    "data.columns = ['Province', '2009', '2012', '2015', '2018', '2021']\n",
    "\n",
    "data = data[1:]\n",
    "\n",
    "for year in ['2009', '2012', '2015', '2018', '2021']:\n",
    "    data[year] = data[year].str.replace(',', '.').astype(float)\n",
    "\n",
    "years = ['2009', '2012', '2015', '2018', '2021']\n",
    "\n",
    "group1_provinces = ['Noord Holland', 'Zuid Holland', 'Utrecht', 'Flevoland']\n",
    "group2_provinces = [province for province in data['Province'] if province not in group1_provinces]\n",
    "\n",
    "group1_data = data[data['Province'].isin(group1_provinces)]\n",
    "group2_data = data[data['Province'].isin(group2_provinces)]\n",
    "\n",
    "group1_mean = group1_data[years].mean()\n",
    "group2_mean = group2_data[years].mean()\n",
    "\n",
    "fig = go.Figure()\n",
    "\n",
    "pastel_colors = ['#d34467', '#359d73', '#27958f', '#8c5792', '#1887ab', '#a9629f', '#4f73a1', '#e46828', '#ac1917', '#93ae55', '#f0be39', '#c867a5']\n",
    "for index, row in data.iterrows():\n",
    "    hover_text = [f\"Provincie: {row['Province']}<br>Jaar: {year}<br>Tevredenheid: {row[year]}%\" for year in years]\n",
    "    fig.add_trace(go.Scatter(\n",
    "        x=years,\n",
    "        y=row[years],\n",
    "        mode='lines+markers',\n",
    "        name=row['Province'],\n",
    "        text=hover_text,\n",
    "        hoverinfo='text',\n",
    "        opacity=0.5,\n",
    "        line=dict(color=pastel_colors[index % len(pastel_colors)], width=1)\n",
    "    ))\n",
    "\n",
    "overall_mean_happiness = data[years].mean()\n",
    "\n",
    "fig.add_trace(go.Scatter(\n",
    "    x=years,\n",
    "    y=overall_mean_happiness,\n",
    "    mode='lines+markers',\n",
    "    name='Gemiddelde woontevredenheid NL',\n",
    "    line=dict(color='#666666', width=1.5),\n",
    "    text=[f\"Jaar: {year}<br>Gemiddelde woontevredenheid NL: {value:.1f}%\" for year, value in zip(years, overall_mean_happiness)],\n",
    "    hoverinfo='text',\n",
    "    opacity=1.0\n",
    "))\n",
    "\n",
    "fig.add_trace(go.Scatter(\n",
    "    x=years,\n",
    "    y=group1_mean,\n",
    "    mode='lines+markers',\n",
    "    name='Gemiddelde woontevredenheid Randstad',\n",
    "    line=dict(color='#FF7F50', width=2),\n",
    "    text=[f\"Jaar: {year}<br>Gemiddelde woontevredenheid Randstad: {value:.1f}%\" for year, value in zip(years, group1_mean)],\n",
    "    hoverinfo='text',\n",
    "    opacity=1.0\n",
    "))\n",
    "\n",
    "fig.add_trace(go.Scatter(\n",
    "    x=years,\n",
    "    y=group2_mean,\n",
    "    mode='lines+markers',\n",
    "    name='Gemiddelde woontevredenheid buiten Randstad',\n",
    "    line=dict(color='#1E90FF', width=2),\n",
    "    text=[f\"Jaar: {year}<br>Gemiddelde woontevredenheid buiten Randstad: {value:.1f}%\" for year, value in zip(years, group2_mean)],\n",
    "    hoverinfo='text',\n",
    "    opacity=1.0\n",
    "))\n",
    "\n",
    "fig.update_layout(\n",
    "    title={\n",
    "        'text': \"Tevredenheid met huidige woonomgeving per provincie\",\n",
    "        'x': 0.5,\n",
    "        'xanchor': 'center',\n",
    "        'yanchor': 'top'\n",
    "    },\n",
    "    xaxis_title=\"Jaar\",\n",
    "    yaxis_title=\"Tevredenheid (%)\",\n",
    "    legend_title=\"Provincie\",\n",
    "    template='plotly_white',\n",
    "    font=dict(family=\"Arial, sans-serif\", size=12, color=\"black\"),\n",
    "    title_font=dict(size=20, color='black', family=\"Arial, sans-serif\"),\n",
    "    width=750,\n",
    "    height=500\n",
    ")\n",
    "\n",
    "fig.show()"
   ]
  }
 ],
 "metadata": {
  "kernelspec": {
   "display_name": "Python 3",
   "language": "python",
   "name": "python3"
  },
  "language_info": {
   "codemirror_mode": {
    "name": "ipython",
    "version": 3
   },
   "file_extension": ".py",
   "mimetype": "text/x-python",
   "name": "python",
   "nbconvert_exporter": "python",
   "pygments_lexer": "ipython3",
   "version": "3.11.5"
  }
 },
 "nbformat": 4,
 "nbformat_minor": 2
}
